{
 "cells": [
  {
   "cell_type": "markdown",
   "id": "579989ec-a1e9-47c0-aed9-87dad5aaf206",
   "metadata": {},
   "source": [
    "# Chapter 4\n",
    "## Acceleration"
   ]
  },
  {
   "cell_type": "code",
   "execution_count": 1,
   "id": "6e5d163f-e598-431a-941c-1d5eca3ae793",
   "metadata": {},
   "outputs": [],
   "source": [
    "import numpy as np\n",
    "import matplotlib.pyplot as plt"
   ]
  },
  {
   "cell_type": "markdown",
   "id": "1f351cbb-27bd-4961-9cd2-57f8792a47bd",
   "metadata": {},
   "source": [
    "### Area as a Indefinite Integral\n",
    "\n",
    "Let $a(t)$ be the (non-constant) acceleration as a function of time.  The area under the curve given by $a(t)$ from $t_1$ to $t_2$ is equal to the definite integral of $a(t)$ with respect to time over $[t_1,t_2]$.  \n",
    "\n",
    "$$ A_{t_1}^{t_2} = \\int_{t_1}^{t_2} a(t)\\,\\mathrm{d}t$$"
   ]
  },
  {
   "cell_type": "markdown",
   "id": "b5ca62c1-d0e1-4dc6-98ce-19a2393553db",
   "metadata": {},
   "source": [
    "**Intermediate Value Theorem** states that  \n",
    "\n",
    "$$ \\exists t_c \\in [t_1,t_2] \\;:\\; a_{\\mathrm{avg}} = a(t_c)$$"
   ]
  },
  {
   "cell_type": "markdown",
   "id": "ef7d95a6-33d8-46d6-8ec7-cf0feb31735b",
   "metadata": {},
   "source": [
    "where $a_\\mathrm{avg}$ is the average acceleration over the time interval $[t_1,t_2]$.  This theorem, henceforth IVT, implies that:  \n",
    "\n",
    "$$ a(t_c) = \\frac{\\Delta v}{\\Delta t} = \\frac{v(t_2) - v(t_1)}{t_2-t_1}$$  "
   ]
  },
  {
   "cell_type": "markdown",
   "id": "4f1964ca-eea4-422f-81a7-777c43119219",
   "metadata": {},
   "source": [
    "Which implies that:  \n",
    "\n",
    "$$ \\Delta v = A_{t_1}^{t_2} = a(t_c)(t_2-t_1)$$"
   ]
  },
  {
   "cell_type": "markdown",
   "id": "324f508f-cbe8-48e6-9cae-68a76fbc0ace",
   "metadata": {},
   "source": [
    "Note that, according to IVT, there may be more than one such time value that satifies this condition.  To put it formally,   \n",
    "\n",
    "$$ \\exists T_C \\subseteq [t_1,t_2] \\;:\\; a(t_c) = a_\\mathrm{avg}\\quad\\forall t_c\\in T_C$$  \n",
    "\n",
    "where $T_C \\ne \\emptyset$."
   ]
  },
  {
   "cell_type": "markdown",
   "id": "bc556b63-4b1e-4cfc-86ed-9c092bcec15b",
   "metadata": {},
   "source": [
    "According to IVT, the areas shaded in red in figure 4.14b have equal areas.  Let's verify this.  The red shaded area above and below the curve are, respectively, given by:  \n",
    "\n",
    "$$ A_a = a(t_c)\\cdot (t_c - t_1) - \\int_{t_1}^{t_c}a(t)\\,\\mathrm{d}t \\quad\\quad\\text{and}\\quad\\quad A_b = \\int_{t_c}^{t_2}a(t)\\,\\mathrm{d}t - a(t_c)\\cdot (t_2-t_c)$$"
   ]
  },
  {
   "cell_type": "markdown",
   "id": "8b6dbb60-c994-4acb-87f8-0988291e60cf",
   "metadata": {},
   "source": [
    "Via the above two equations,  \n",
    "\n",
    "$$ a(t_c) \\cdot (t_c - t_1) + a(t_c)\\cdot (t_2-t_c) = \\int_{t_1}^{t_2}a(t)\\,\\mathrm{d}t$$"
   ]
  },
  {
   "cell_type": "markdown",
   "id": "118ea293-85b4-40f5-87b0-d2daeab1d0d8",
   "metadata": {},
   "source": [
    "$$ a(t_c)\\cdot(t_2-t_1) = \\int_{t_1}^{t_2}a(t)\\,\\mathrm{d}t$$"
   ]
  },
  {
   "cell_type": "markdown",
   "id": "0a886de5-3e0d-4ba3-a3a2-e1b2bd1ca227",
   "metadata": {},
   "source": [
    "Furthermore, via the above equation and IVT,  \n",
    "\n",
    "$$ v(t_2) - v(t_1) = \\int_{t_1}^{t_2} a(t)\\,\\mathrm{d}t$$"
   ]
  },
  {
   "cell_type": "markdown",
   "id": "db669828-9e86-4ae4-95bc-619f71692b24",
   "metadata": {},
   "source": [
    "The above equation is true, therefore we have verified what is said about IVT regarding the aforementioned figure and the shaded areas therein."
   ]
  },
  {
   "cell_type": "markdown",
   "id": "80ee76f8-6e15-4f75-b28d-b14785607f17",
   "metadata": {},
   "source": [
    "## Examples\n",
    "\n",
    "### Example 1:  Accelerating Car\n",
    "\n",
    "A car, starting at rest at $t = 0$ , accelerates in a straight line for $100 \\mathrm{m}$ with an unknown\n",
    "constant acceleration. It reaches a speed of $20 \\mathrm{m}\\cdot\\mathrm{s}^{−1}$ and then continues at this speed for\n",
    "another $10 \\mathrm{s}$ . \n",
    "* (a) Write down the equations for position and velocity of the car as a\n",
    "function of time.\n",
    "* (b) How long was the car accelerating?\n",
    "* (c) What was the magnitude of\n",
    "the acceleration?\n",
    "* (d) Plot speed vs. time, acceleration vs. time, and position vs. time for\n",
    "the entire motion.\n",
    "* (e) What was the average velocity for the entire trip"
   ]
  },
  {
   "cell_type": "markdown",
   "id": "5cc19c48-3a1d-4825-b30d-6ab5f1538818",
   "metadata": {},
   "source": [
    "Let $x(t)$ be the position of the car along said straight line as a function of time.  The $x$-axis is of course said line, with the positive end thereof being in the same direction that the car travels in.  \n",
    "\n",
    "$$ v(0) = x'(0) = v_0 = 0$$"
   ]
  },
  {
   "cell_type": "markdown",
   "id": "146d1d02-6230-4473-b3f2-07db4ae9f308",
   "metadata": {},
   "source": [
    "$$ x(t_1) = 100\\mathrm{m} \\quad\\quad a(t) = x''(t) = K = \\mathit{const} \\quad\\text{for }\\, 0\\le t < t_1$$"
   ]
  },
  {
   "cell_type": "markdown",
   "id": "9123a56b-6894-4395-baa7-2a7a32217344",
   "metadata": {},
   "source": [
    "$$ a(t) = 0 \\quad\\text{for }\\, t_1 \\le t \\le t_1 + 10\\mathrm{s} = t_2$$"
   ]
  },
  {
   "cell_type": "markdown",
   "id": "0784001f-e724-4dc4-a6e9-6859e14208f0",
   "metadata": {},
   "source": [
    "$$ v(t_1) = v_1 = 20\\frac{\\mathrm{m}}{\\mathrm{s}}$$"
   ]
  },
  {
   "cell_type": "markdown",
   "id": "e65422bf-652e-42b3-b5e8-d183c7d6a79d",
   "metadata": {},
   "source": [
    "Via Mean Value Theorem,  \n",
    "\n",
    "$$ v_\\mathrm{avg} = 0.5 v_1 = 10\\,\\frac{\\mathrm{m}}{\\mathrm{s}} = \\frac{\\Delta x}{\\Delta t} = \\frac{100\\mathrm{m}}{t_1}$$"
   ]
  },
  {
   "cell_type": "markdown",
   "id": "84e53070-4e78-47e2-91ee-77ccc126cd26",
   "metadata": {},
   "source": [
    "$$ t_1 = 10\\mathrm{s}$$"
   ]
  },
  {
   "cell_type": "markdown",
   "id": "76ed5285-76e0-484f-a8ad-851671a3f858",
   "metadata": {},
   "source": [
    "Note that the above average velocity is over the time interval $[0,t_1)$."
   ]
  },
  {
   "cell_type": "markdown",
   "id": "667a375e-770a-481d-957e-f34f34819b77",
   "metadata": {},
   "source": [
    "Therefore,  \n",
    "\n",
    "$$ x(10\\mathrm{s}) = 100\\mathrm{m} \\quad\\quad\\text{and}\\quad\\quad a(t) = 0 \\quad\\text{for }\\; 10\\mathrm{s} \\le t \\le 20\\mathrm{s}$$"
   ]
  },
  {
   "attachments": {},
   "cell_type": "markdown",
   "id": "7e5e27bf-9d7a-49d4-9979-912b7648acc5",
   "metadata": {},
   "source": [
    "**a)**  \n",
    "\n",
    "$$ v(t) = \\int a(t)\\,\\mathrm{d}t = \\begin{cases} Kt  &\\quad\\text{if }\\; 0 \\le t < t_1 \\\\ 20\\mathrm{m}\\cdot\\mathrm{s}^{-1}&\\quad\\text{if }\\;10\\mathrm{s} \\le t \\le 20\\mathrm{s}\\end{cases}$$"
   ]
  },
  {
   "cell_type": "markdown",
   "id": "ccc91244-def6-4f63-a57b-ef2721b3cb48",
   "metadata": {},
   "source": [
    "$$ x(t) = \\int v(t)\\,\\mathrm{d}t = \\begin{cases}0.5 Kt^2 &\\quad\\text{if }\\; 0\\le t < t_1 \\\\ (t-10\\mathrm{s})\\cdot 20\\mathrm{m}\\cdot\\mathrm{s}^{-1} + 100\\mathrm{m} &\\quad\\text{if }\\; 10\\mathrm{s}\\le t \\le 20\\mathrm{s}\\end{cases}$$"
   ]
  },
  {
   "cell_type": "markdown",
   "id": "ca4169ed-1c8d-49c0-87f7-0ecdc5cc8313",
   "metadata": {},
   "source": [
    "We can find $K$ with the following:  \n",
    "\n",
    "$$ x(10\\mathrm{s}) = 100\\mathrm{m} = 0.5\\cdot 100\\mathrm{s}^2 \\cdot K$$"
   ]
  },
  {
   "cell_type": "markdown",
   "id": "69e46757-5cb4-4893-9054-c66ec0e3a754",
   "metadata": {},
   "source": [
    "$$ K = 2\\frac{\\mathrm{m}}{\\mathrm{s}^2}$$"
   ]
  },
  {
   "cell_type": "markdown",
   "id": "8205afd7-65c5-4c20-86a4-fb314b664453",
   "metadata": {},
   "source": [
    "**b)**  $$ t_1 = 10\\mathrm{s}$$"
   ]
  },
  {
   "cell_type": "markdown",
   "id": "4bf8534c-07a0-4481-ae52-71a71e0e642b",
   "metadata": {},
   "source": [
    "**c)**  $$ |a(t)| =  \\begin{cases}K &\\quad\\text{if }\\; 0 \\le t < 10\\mathrm{s} \\\\ 0 &\\quad\\text{if }\\; 10\\mathrm{s}\\le t \\le 20\\mathrm{s}\\end{cases}$$"
   ]
  },
  {
   "cell_type": "markdown",
   "id": "dd9030dd-0b44-462e-8095-5fc32cbb1599",
   "metadata": {},
   "source": [
    "**e)** $$ a_\\mathrm{avg} = 1\\frac{\\mathrm{m}}{\\mathrm{s}^2} = 0.5K $$ "
   ]
  },
  {
   "cell_type": "markdown",
   "id": "3cf4c70c-6462-424c-8325-77b4c552c698",
   "metadata": {},
   "source": [
    "The avererage velocity over the time interval $[0,20\\mathrm{s}]$, denoted as $V_\\mathrm{avg}$, is given by:   \n",
    "\n",
    "$$ V_\\mathrm{avg} = \\frac{\\Delta x }{\\Delta t} = \\frac{x(20\\mathrm{s}) - x(0)}{20\\mathrm{s}}$$"
   ]
  },
  {
   "attachments": {},
   "cell_type": "markdown",
   "id": "fa2e4259-b0cf-480d-8ebd-935579c0c5b7",
   "metadata": {},
   "source": [
    "$$ = \\frac{x(10\\mathrm{s}) + x(20\\mathrm{s}) - x(10\\mathrm{s})}{20\\mathrm{s}} = \\frac{x(10\\mathrm{s})}{20\\mathrm{s}} + \\frac{x(20\\mathrm{s}) - x(10\\mathrm{s})}{20\\mathrm{s}}$$"
   ]
  },
  {
   "cell_type": "markdown",
   "id": "63835965-3dcd-4eee-b34b-4a0f18c7c7f3",
   "metadata": {},
   "source": [
    "$$ = 0.5v_\\mathrm{avg} + 0.5\\cdot 20\\frac{\\mathrm{m}}{\\mathrm{s}}$$"
   ]
  },
  {
   "cell_type": "markdown",
   "id": "1a53cfb0-dc33-4104-872e-8d2f7f58994b",
   "metadata": {},
   "source": [
    "$$ = 15\\frac{\\mathrm{m}}{\\mathrm{s}}$$"
   ]
  },
  {
   "cell_type": "markdown",
   "id": "a2f552f5-b3db-4bdd-9111-0e6855c33477",
   "metadata": {},
   "source": [
    "### Example 2: Catching a Bus\n",
    "\n",
    "At the instant a traffic light turns green, a car starts from rest with a given constant\n",
    "acceleration, $3.0 \\mathrm{m} \\cdot \\mathrm{s}^{-2}$ . Just as the light turns green, a bus, traveling with a given\n",
    "constant velocity, $1.6 \\cdot 10^1 \\mathrm{m} \\cdot \\mathrm{s}^{-1}$ , passes the car. The car speeds up and passes the bus\n",
    "some time later. How far down the road has the car traveled, when the car passes the bus?"
   ]
  },
  {
   "cell_type": "markdown",
   "id": "0ab134d7-81cc-4823-9863-dbaf6a1d22a7",
   "metadata": {},
   "source": [
    "Let $x_c(t)$ and $x_b(t)$ be the position of car and bus as a function of time respectively.  \n",
    "\n",
    "$$ x_c''(t) = a_c(t) = 3.0\\frac{\\mathrm{m}}{\\mathrm{s}^2} \\quad\\quad\\text{and}\\quad\\quad x_b(t) = v_b(t) t$$"
   ]
  },
  {
   "cell_type": "markdown",
   "id": "c9d7e09f-56b2-44ba-817b-299d7fe91529",
   "metadata": {},
   "source": [
    "Let $t_1$ be the moment the car passes the bus.  \n",
    "\n",
    "$$ x_c(t_1) = x_b(t_1)$$"
   ]
  },
  {
   "cell_type": "markdown",
   "id": "7b88e6de-76b4-49e9-9814-7c25e0726258",
   "metadata": {},
   "source": [
    "$$ v_c(t) = \\int a_c(t)\\,\\mathrm{d}t = v_c(t) t + v_c(0) = 3.0\\frac{\\mathrm{m}}{\\mathrm{s}^2}\\, t$$"
   ]
  },
  {
   "cell_type": "markdown",
   "id": "2144a76c-d234-4aa9-a954-adfeca27864a",
   "metadata": {},
   "source": [
    "$$ x_c(t) = \\int v_c(t)\\,\\mathrm{d} t = \\frac{3.0}{2}\\frac{\\mathrm{m}}{\\mathrm{s}^2}\\,t^2$$"
   ]
  },
  {
   "cell_type": "markdown",
   "id": "6e83a14f-3aed-4964-aa47-e11a2c39cdab",
   "metadata": {},
   "source": [
    "$$ \\frac{3.0}{2}\\frac{\\mathrm{m}}{\\mathrm{s}^2}\\,t_1^2 = 1.6\\cdot 10^1 \\frac{\\mathrm{m}}{\\mathrm{s}}\\,t_1$$"
   ]
  },
  {
   "cell_type": "markdown",
   "id": "598945b2-2dbb-4003-ad6b-1be721ac2240",
   "metadata": {},
   "source": [
    "$$  3.0\\frac{1}{\\mathrm{s}} \\,t_1 = 3.2\\cdot 10^1 $$"
   ]
  },
  {
   "cell_type": "markdown",
   "id": "a7b15191-055a-4024-b637-10a488a1f965",
   "metadata": {},
   "source": [
    "$$ t_1 = \\frac{3.2}{3.0}\\cdot 10^1 \\mathrm{s}$$"
   ]
  },
  {
   "cell_type": "markdown",
   "id": "c53f5a3a-2ec5-4d27-bd1c-b54d1d042b50",
   "metadata": {},
   "source": [
    "Finally,  \n",
    "\n",
    "$$ x_b(t_1) = 1.6\\cdot\\frac{3.2}{3.0}\\cdot 10^2\\mathrm{m}$$"
   ]
  },
  {
   "cell_type": "code",
   "execution_count": 2,
   "id": "640f796e-564b-4892-97e7-f69bfd21d657",
   "metadata": {},
   "outputs": [
    {
     "data": {
      "text/plain": [
       "1.706666666666667"
      ]
     },
     "execution_count": 2,
     "metadata": {},
     "output_type": "execute_result"
    }
   ],
   "source": [
    "1.6*3.2/3.0"
   ]
  },
  {
   "cell_type": "code",
   "execution_count": null,
   "id": "1d6be6a6-3367-4c1e-9f94-38c03cd23c0e",
   "metadata": {},
   "outputs": [],
   "source": []
  }
 ],
 "metadata": {
  "kernelspec": {
   "display_name": "Python 3 (ipykernel)",
   "language": "python",
   "name": "python3"
  },
  "language_info": {
   "codemirror_mode": {
    "name": "ipython",
    "version": 3
   },
   "file_extension": ".py",
   "mimetype": "text/x-python",
   "name": "python",
   "nbconvert_exporter": "python",
   "pygments_lexer": "ipython3",
   "version": "3.10.12"
  }
 },
 "nbformat": 4,
 "nbformat_minor": 5
}
