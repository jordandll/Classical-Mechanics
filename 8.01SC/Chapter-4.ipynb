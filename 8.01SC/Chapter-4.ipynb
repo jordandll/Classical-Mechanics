{
 "cells": [
  {
   "cell_type": "markdown",
   "id": "579989ec-a1e9-47c0-aed9-87dad5aaf206",
   "metadata": {},
   "source": [
    "# Chapter 4\n",
    "## Acceleration"
   ]
  },
  {
   "cell_type": "markdown",
   "id": "80ee76f8-6e15-4f75-b28d-b14785607f17",
   "metadata": {},
   "source": [
    "## Examples\n",
    "\n",
    "### Example 1\n",
    "\n",
    "A car, starting at rest at $t = 0$ , accelerates in a straight line for $100 \\mathrm{m}$ with an unknown\n",
    "constant acceleration. It reaches a speed of $20 \\mathrm{m}\\cdot\\mathrm{s}^{−1}$ and then continues at this speed for\n",
    "another $10 \\mathrm{s}$ . \n",
    "* (a) Write down the equations for position and velocity of the car as a\n",
    "function of time.\n",
    "* (b) How long was the car accelerating?\n",
    "* (c) What was the magnitude of\n",
    "the acceleration?\n",
    "* (d) Plot speed vs. time, acceleration vs. time, and position vs. time for\n",
    "the entire motion.\n",
    "* (e) What was the average velocity for the entire trip"
   ]
  },
  {
   "cell_type": "markdown",
   "id": "5cc19c48-3a1d-4825-b30d-6ab5f1538818",
   "metadata": {},
   "source": [
    "Let $x(t)$ be the position of the car along said straight line as a function of time.  The $x$-axis is of course said line, with the positive end thereof being in the same direction that the car travels in.  \n",
    "\n",
    "$$ v(0) = x'(0) = v_0 = 0$$"
   ]
  },
  {
   "cell_type": "markdown",
   "id": "146d1d02-6230-4473-b3f2-07db4ae9f308",
   "metadata": {},
   "source": [
    "$$ x(t_1) = 100\\mathrm{m} \\quad\\quad a(t) = x''(t) = K = \\mathit{const} \\quad\\text{for }\\, 0\\le t < t_1$$"
   ]
  },
  {
   "cell_type": "markdown",
   "id": "9123a56b-6894-4395-baa7-2a7a32217344",
   "metadata": {},
   "source": [
    "$$ a(t) = 0 \\quad\\text{for }\\, t_1 \\le t \\le t_1 + 10\\mathrm{s} = t_2$$"
   ]
  },
  {
   "cell_type": "markdown",
   "id": "0784001f-e724-4dc4-a6e9-6859e14208f0",
   "metadata": {},
   "source": [
    "$$ v(t_1) = v_1 = 20\\,\\frac{\\mathrm{m}}{\\mathrm{s}}$$"
   ]
  },
  {
   "cell_type": "markdown",
   "id": "e65422bf-652e-42b3-b5e8-d183c7d6a79d",
   "metadata": {},
   "source": [
    "Via Mean Value Theorem,  \n",
    "\n",
    "$$ v_\\mathrm{avg} = 0.5 v_1 = 10\\,\\frac{\\mathrm{m}}{\\mathrm{s}} = \\frac{\\Delta x}{\\Delta t} = \\frac{100\\mathrm{m}}{t_1}$$"
   ]
  },
  {
   "cell_type": "markdown",
   "id": "84e53070-4e78-47e2-91ee-77ccc126cd26",
   "metadata": {},
   "source": [
    "$$ t_1 = 10\\mathrm{s}$$"
   ]
  },
  {
   "cell_type": "markdown",
   "id": "76ed5285-76e0-484f-a8ad-851671a3f858",
   "metadata": {},
   "source": [
    "Note that the above average velocity is over the time interval $[0,t_1)$."
   ]
  },
  {
   "cell_type": "markdown",
   "id": "667a375e-770a-481d-957e-f34f34819b77",
   "metadata": {},
   "source": [
    "Therefore,  \n",
    "\n",
    "$$ x(10\\mathrm{s}) = 100\\mathrm{m} \\quad\\quad\\text{and}\\quad\\quad a(t) = 0 \\quad\\text{for }\\; 10\\mathrm{s} \\le t \\le 20\\mathrm{s}$$"
   ]
  },
  {
   "attachments": {},
   "cell_type": "markdown",
   "id": "7e5e27bf-9d7a-49d4-9979-912b7648acc5",
   "metadata": {},
   "source": [
    "**a)**  \n",
    "\n",
    "$$ v(t) = \\int a(t)\\,\\mathrm{d}t = \\begin{cases} Kt  &\\quad\\text{if }\\; 0 \\le t < t_1 \\\\ 20\\mathrm{m}\\cdot\\mathrm{s}^{-1}&\\quad\\text{if }\\;10\\mathrm{s} \\le t \\le 20\\mathrm{s}\\end{cases}$$"
   ]
  },
  {
   "cell_type": "markdown",
   "id": "ccc91244-def6-4f63-a57b-ef2721b3cb48",
   "metadata": {},
   "source": [
    "$$ x(t) = \\int v(t)\\,\\mathrm{d}t = \\begin{cases}0.5 Kt^2 &\\quad\\text{if }\\; 0\\le t < t_1 \\\\ (t-10\\mathrm{s})\\cdot 20\\mathrm{m}\\cdot\\mathrm{s}^{-1} + 100\\mathrm{m} &\\quad\\text{if }\\; 10\\mathrm{s}\\le t \\le 20\\mathrm{s}\\end{cases}$$"
   ]
  },
  {
   "cell_type": "markdown",
   "id": "ca4169ed-1c8d-49c0-87f7-0ecdc5cc8313",
   "metadata": {},
   "source": [
    "We can find $K$ with the following:  \n",
    "\n",
    "$$ x(10\\mathrm{s}) = 100\\mathrm{m} = 0.5\\cdot 100\\mathrm{s}^2 \\cdot K$$"
   ]
  },
  {
   "cell_type": "markdown",
   "id": "69e46757-5cb4-4893-9054-c66ec0e3a754",
   "metadata": {},
   "source": [
    "$$ K = 2\\,\\frac{\\mathrm{m}}{\\mathrm{s}^2}$$"
   ]
  },
  {
   "cell_type": "markdown",
   "id": "8205afd7-65c5-4c20-86a4-fb314b664453",
   "metadata": {},
   "source": [
    "**b)**  $$ t_1 = 10\\mathrm{s}$$"
   ]
  },
  {
   "cell_type": "markdown",
   "id": "4bf8534c-07a0-4481-ae52-71a71e0e642b",
   "metadata": {},
   "source": [
    "**c)**  $$ |a(t)| =  \\begin{cases}K &\\quad\\text{if }\\; 0 \\le t < 10\\mathrm{s} \\\\ 0 &\\quad\\text{if }\\; 10\\mathrm{s}\\le t \\le 20\\mathrm{s}\\end{cases}$$"
   ]
  },
  {
   "cell_type": "markdown",
   "id": "dd9030dd-0b44-462e-8095-5fc32cbb1599",
   "metadata": {},
   "source": [
    "**e)** $$ a_\\mathrm{avg} = 1\\,\\frac{\\mathrm{m}}{\\mathrm{s}^2} = 0.5K $$ "
   ]
  },
  {
   "cell_type": "markdown",
   "id": "3cf4c70c-6462-424c-8325-77b4c552c698",
   "metadata": {},
   "source": [
    "The avererage velocity over the time interval $[0,20\\mathrm{s}]$, denoted as $V_\\mathrm{avg}$, is given by:   \n",
    "\n",
    "$$ 0.5 v_\\mathrm{avg} + v_1 = 25\\,\\frac{\\mathrm{m}}{\\mathrm{s}}$$"
   ]
  }
 ],
 "metadata": {
  "kernelspec": {
   "display_name": "Python 3 (ipykernel)",
   "language": "python",
   "name": "python3"
  },
  "language_info": {
   "codemirror_mode": {
    "name": "ipython",
    "version": 3
   },
   "file_extension": ".py",
   "mimetype": "text/x-python",
   "name": "python",
   "nbconvert_exporter": "python",
   "pygments_lexer": "ipython3",
   "version": "3.10.12"
  }
 },
 "nbformat": 4,
 "nbformat_minor": 5
}
