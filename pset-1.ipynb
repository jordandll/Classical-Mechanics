{
 "cells": [
  {
   "cell_type": "markdown",
   "id": "50b0d188-fe30-4caa-929a-cfb0690c85e3",
   "metadata": {},
   "source": [
    "# Problem Set 1  \n",
    "\n",
    "## Chapter 1:  \n",
    "### Vectors and Kinematics\n"
   ]
  }
 ],
 "metadata": {
  "kernelspec": {
   "display_name": "Python 3 (ipykernel)",
   "language": "python",
   "name": "python3"
  },
  "language_info": {
   "codemirror_mode": {
    "name": "ipython",
    "version": 3
   },
   "file_extension": ".py",
   "mimetype": "text/x-python",
   "name": "python",
   "nbconvert_exporter": "python",
   "pygments_lexer": "ipython3",
   "version": "3.10.12"
  }
 },
 "nbformat": 4,
 "nbformat_minor": 5
}
