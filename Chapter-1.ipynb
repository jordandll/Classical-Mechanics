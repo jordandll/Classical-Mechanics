{
 "cells": [
  {
   "cell_type": "markdown",
   "id": "52466591-9a52-49b2-8207-26e16fb0c279",
   "metadata": {},
   "source": [
    "# Vectors and Kinematics"
   ]
  },
  {
   "cell_type": "markdown",
   "id": "f9f27bf9-ae79-4657-9fbf-1a9d66aef61c",
   "metadata": {},
   "source": [
    "## Notes"
   ]
  },
  {
   "cell_type": "markdown",
   "id": "49def3d8-4882-4bbd-aaf6-e28fabeb26bb",
   "metadata": {},
   "source": [
    "### Approximation Methods\n",
    "\n",
    "Occasionally in the course of solving a physics problem you might sud-\n",
    "denly realize that you have become so involved with the mathematics\n",
    "that the physics is largely obscured. In such a case, it is worth stepping\n",
    "back for a moment to see if you can reduce the complexity, for instance\n",
    "by using simple approximate expressions instead of exact formulas.You\n",
    "might feel that there is something essentially wrong with substituting in-\n",
    "exact results for exact ones but this is not really the case, as the following\n",
    "example illustrates."
   ]
  },
  {
   "cell_type": "markdown",
   "id": "1486ab09-c7b9-4a88-a23d-b968e02ac6fe",
   "metadata": {},
   "source": [
    "The period of a simple pendulum of length $L$ is $T_0 = 2\\pi \\sqrt{g/L}$,\n",
    "where $g$ is the acceleration of gravity. (This result will be derived in\n",
    "Chapter 3.) The accuracy of a clock driven by the pendulum depends\n",
    "on $L$ remaining constant, but $L$ can change due to thermal expansion\n",
    "and possibly aging effects. The problem is to find how sensitive the\n",
    "period is to small changes in length. If the length changes by some\n",
    "amount $l$, the new period is $T = 2\\pi \\sqrt{g/(L + l)}$. The change in the period\n",
    "is  \n",
    "\n",
    "$$ \\Delta T = T- T_0 = 2\\pi \\left(\\sqrt{\\frac{g}{L+l}} - \\sqrt{\\frac{g}{L}}\\right)$$"
   ]
  },
  {
   "cell_type": "markdown",
   "id": "78c56ef4-4351-4482-a788-3647c260cf6f",
   "metadata": {},
   "source": [
    "This equation is exact but not particularly informative. It gives little in-\n",
    "sight as to how $\\Delta T$ depends on the change in length $l$. Also, if $l \\ll L$,\n",
    "which is generally the case of interest, $\\Delta T$ is the small difference of two\n",
    "large numbers, which makes the result very sensitive to numerical errors.  To elaborate, let's take the derivative of $\\Delta T$ with respect to $l$.  \n",
    "\n",
    "$$ \\Delta T := \\Delta T(l) \\quad\\quad \\Delta T'(l) = -\\pi \\sqrt{\\frac{g}{(L+l)^3}}$$"
   ]
  },
  {
   "cell_type": "markdown",
   "id": "e6b3b9a3-fa88-48d6-858f-a71c489018a6",
   "metadata": {},
   "source": [
    "The absolute value of the derivative of $\\Delta T$ with respect to $l$ is at it's largest when $l=0$, which confirms what we are elaborating on.  You should know that said derivative correlates with how sensitive $\\Delta T$ is to changes in $l$ as a function of $l$.  As $l$ increases, $|\\Delta T'(l)|$ decreases which goes hand in hand with the fact that the larger $l$ gets the less sensitive $\\Delta T$ is to changes in $l$."
   ]
  },
  {
   "cell_type": "markdown",
   "id": "fc912ff6-658c-4e54-b6bc-20f2212caf8c",
   "metadata": {},
   "source": [
    "Now, by recasting the form of $\\Delta T$ , both of these problems can be\n",
    "solved. The trick is to write $ \\Delta T$ as a power series in the small parameter\n",
    "$x = l/L$. We have  \n",
    "\n",
    "\\begin{align*}\n",
    "    \\Delta T &= 2\\pi \\left(\\sqrt{\\frac{g}{L}\\frac{1}{1+x}} - \\sqrt{\\frac{g}{L}}\\right) \\\\ \\\\\n",
    "     &= 2\\pi\\sqrt{\\frac{g}{L}}\\left(\\frac{1}{1+x} - 1\\right) \\\\ \\\\\n",
    "     &= T_0\\left(\\sqrt{\\frac{1}{1+x}}-1\\right)\n",
    "\\end{align*}"
   ]
  },
  {
   "cell_type": "markdown",
   "id": "48c9faf2-e191-40aa-b600-0dfecae2d464",
   "metadata": {},
   "source": [
    "### Taylor Series\n",
    "\n",
    "$$ f(x) = a_0 + a_1x + a_2x^2 + \\dotsb \\quad\\quad\\text{or}\\quad\\quad f(x)=\\sum_{i=0}^\\infty a_ix^i$$"
   ]
  },
  {
   "cell_type": "markdown",
   "id": "c8761c97-9ce3-4243-94ea-6288d8e967d2",
   "metadata": {},
   "source": [
    "To find the first coefficient $a_0$:  \n",
    "\n",
    "$$ f(0) = a_0$$"
   ]
  },
  {
   "cell_type": "markdown",
   "id": "3f454d13-6a2a-4248-b0ee-389023e31c33",
   "metadata": {},
   "source": [
    "To find the second:  \n",
    "\n",
    "$$ f'(x) = a_1 + 2a_2x + 3a_3x^2 + \\dotsb \\quad\\quad\\text{or}\\quad\\quad f'(x) = \\sum_{i=1}^\\infty ia_ix^{i-1}$$"
   ]
  },
  {
   "cell_type": "markdown",
   "id": "0debbc69-d4a5-446e-8918-4613f24b7db4",
   "metadata": {},
   "source": [
    "$$ f'(0) = a_1$$"
   ]
  },
  {
   "cell_type": "markdown",
   "id": "3262a952-218a-4bbb-b86c-884258ed20f5",
   "metadata": {},
   "source": [
    "For the third, we take the second derivative of $f(x)$.  \n",
    "\n",
    "$$ f''(x) = 2a_2 + 6a_3x + 12a_4x^2 + \\dotsb \\quad\\quad\\text{or}\\quad\\quad f''(x) = \\sum_{i=2}^\\infty i(i-1)a_ix^{i-2}$$"
   ]
  },
  {
   "cell_type": "markdown",
   "id": "e61df42d-6fc7-487a-bdf9-6f423e89557f",
   "metadata": {},
   "source": [
    "$$ f''(0) = 2a_2$$"
   ]
  },
  {
   "cell_type": "markdown",
   "id": "cef74eff-0595-4c07-afa6-c5eddfe404f5",
   "metadata": {},
   "source": [
    "In general, for the coefficient with an index or subscript of $k$ (i.e. $a_k$), we take the $k$'th derivative of $f(x)$, denoted as $f^{(k)}(x)$.  \n",
    "\n",
    "$$ f^{(k)}(x) = k! a_k + \\frac{(k+1)!}{1!}a_{k+1}x + \\frac{(k+2)!}{2!}a_{k+2}x^2 + \\dotsb$$"
   ]
  },
  {
   "cell_type": "markdown",
   "id": "4a06a485-1e1e-49e4-a354-1caf4794b16f",
   "metadata": {},
   "source": [
    "$$ f^{(k)}(0) = k! a_k$$"
   ]
  },
  {
   "cell_type": "markdown",
   "id": "3f7a63c8-c659-4d59-8e5b-4961e0f5b7ed",
   "metadata": {},
   "source": [
    "## Problems\n",
    "\n",
    "#### Problem 1  \n",
    "\n",
    "**a)**  \n",
    "\n",
    "$$ \\mathbf{A} + \\mathbf{B} = \\langle 7,-2,9\\rangle$$"
   ]
  },
  {
   "cell_type": "markdown",
   "id": "ba01bf3a-89ca-4051-952a-5729ba9acf2c",
   "metadata": {},
   "source": [
    "**b)**  $$ \\mathbf{A} - \\mathbf{B} = \\langle -3,-4,5\\rangle$$"
   ]
  },
  {
   "cell_type": "markdown",
   "id": "c8c7e325-b597-4ff2-a40c-dbe0b9bb31e4",
   "metadata": {},
   "source": [
    "**c)**  $$ \\mathbf{A} \\cdot \\mathbf{B} = 10 + (-3) + 14 = 21$$"
   ]
  },
  {
   "cell_type": "markdown",
   "id": "b9466072-0417-459e-92b7-9822a785b55d",
   "metadata": {},
   "source": [
    "**d)**  $$ \\mathbf{A} \\times \\mathbf{B} = AB\\sin\\theta \\,\\mathbf{n} = \\left|\\begin{matrix}\\mathbf{i} & \\mathbf{j} & \\mathbf{k} \\\\ 2 & -3 & 7 \\\\ 5 & 1 & 2 \\end{matrix}\\right|$$"
   ]
  },
  {
   "cell_type": "markdown",
   "id": "61100a03-80bd-4ff0-a473-1bf81ebfea2e",
   "metadata": {},
   "source": [
    "$$ -(6 + 7)\\,\\mathbf{i} - (4 - 35)\\,\\mathbf{j} + (2 + 15)\\mathbf{k} = \\langle -13,31,17\\rangle$$"
   ]
  },
  {
   "cell_type": "markdown",
   "id": "ff9b4357-8e7b-429c-90a7-b475fe0e877d",
   "metadata": {},
   "source": [
    "#### Problem 2\n",
    "**a)**  \n",
    "\n",
    "$$ \\mathbf{A}^2 = A^2 = 3^2 + 4 + 25 = 9 + 4 + 25 = 13 + 25 = 38$$"
   ]
  },
  {
   "cell_type": "markdown",
   "id": "1f41c1dc-2b4b-421a-bb1e-b8bb4b076a5c",
   "metadata": {},
   "source": [
    "**b)**  $$ \\mathbf{B}^2 = B^2 = 36 + 49 + 16 = 49 + 62 = 111$$"
   ]
  },
  {
   "cell_type": "markdown",
   "id": "68632080-25c5-44cf-ba05-3b54e589aff2",
   "metadata": {},
   "source": [
    "**c)**  \n",
    "\n",
    "$$(\\mathbf{A}\\cdot\\mathbf{B})^2  = (18 + 14 + 20)^2 = (32+20)^2 = 52^2$$"
   ]
  },
  {
   "cell_type": "markdown",
   "id": "6add6fb0-0d2c-4e32-9b46-fbb8aaf3aa2a",
   "metadata": {},
   "source": [
    "#### Problem 3\n",
    "\n",
    "Find the cosine and sine of the angle between $\\mathbf{A} = \\langle 3,1,1\\rangle$ and $\\mathbf{B} = \\langle -2,1,1\\rangle $."
   ]
  },
  {
   "cell_type": "markdown",
   "id": "faee5d4a-8e2a-4fea-8bef-c0061711eb80",
   "metadata": {},
   "source": [
    "$$ \\mathbf{A}\\cdot\\mathbf{B} = AB\\cos\\theta = -6 + 1 + 1 = -4$$"
   ]
  },
  {
   "cell_type": "markdown",
   "id": "c4ca35cc-87e7-40b7-b7c6-3e78346822f2",
   "metadata": {},
   "source": [
    "$$ \\cos\\theta = -\\frac{4}{AB} = -\\frac{4}{\\sqrt{(9 + 2)(4 + 2)}}$$"
   ]
  },
  {
   "cell_type": "markdown",
   "id": "417a0967-f3de-4f91-81a5-2dd29f141b0b",
   "metadata": {},
   "source": [
    "$$ - \\frac{4}{\\sqrt{66}}$$"
   ]
  },
  {
   "cell_type": "markdown",
   "id": "69cdab7e-937d-4a82-9f63-50acfacc034f",
   "metadata": {},
   "source": [
    "$$ \\mathbf{A}\\times\\mathbf{B} = AB\\sin\\theta\\,\\mathbf{n} = \\left|\\begin{matrix}\\mathbf{i} & \\mathbf{j} & \\mathbf{k} \\\\ 3 & 1 & 1 \\\\ -2 & 1 & 1\\end{matrix}\\right|$$"
   ]
  },
  {
   "cell_type": "markdown",
   "id": "d1634801-9118-4a2c-8334-20584829df9d",
   "metadata": {},
   "source": [
    "$$ = (0)\\,\\mathbf{j} - (3 + 2)\\,\\mathbf{j} + (3+2)\\,\\mathbf{k} = \\langle 0,-5,5\\rangle = 5\\langle 0,-1,1\\rangle$$"
   ]
  },
  {
   "cell_type": "markdown",
   "id": "e7a96d37-659c-42e0-8f8c-1ee7c250334b",
   "metadata": {},
   "source": [
    "$$ |\\mathbf{A}\\times\\mathbf{B}| = AB\\sin\\theta = 5\\sqrt{2}$$"
   ]
  },
  {
   "cell_type": "markdown",
   "id": "3c6b6d23-272a-4109-83b2-70f09de71a6f",
   "metadata": {},
   "source": [
    "$$ \\sin\\theta = \\frac{5\\sqrt{2}}{\\sqrt{66}} = \\frac{5}{\\sqrt{33}}$$"
   ]
  }
 ],
 "metadata": {
  "kernelspec": {
   "display_name": "Python 3 (ipykernel)",
   "language": "python",
   "name": "python3"
  },
  "language_info": {
   "codemirror_mode": {
    "name": "ipython",
    "version": 3
   },
   "file_extension": ".py",
   "mimetype": "text/x-python",
   "name": "python",
   "nbconvert_exporter": "python",
   "pygments_lexer": "ipython3",
   "version": "3.10.12"
  }
 },
 "nbformat": 4,
 "nbformat_minor": 5
}
