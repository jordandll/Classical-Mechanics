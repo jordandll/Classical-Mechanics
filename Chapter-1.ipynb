{
 "cells": [
  {
   "cell_type": "markdown",
   "id": "52466591-9a52-49b2-8207-26e16fb0c279",
   "metadata": {},
   "source": [
    "# Vectors and Kinematics"
   ]
  },
  {
   "cell_type": "markdown",
   "id": "f9f27bf9-ae79-4657-9fbf-1a9d66aef61c",
   "metadata": {},
   "source": [
    "## Notes"
   ]
  },
  {
   "cell_type": "markdown",
   "id": "49def3d8-4882-4bbd-aaf6-e28fabeb26bb",
   "metadata": {},
   "source": [
    "### Approximation Methods\n",
    "\n",
    "Occasionally in the course of solving a physics problem you might sud-\n",
    "denly realize that you have become so involved with the mathematics\n",
    "that the physics is largely obscured. In such a case, it is worth stepping\n",
    "back for a moment to see if you can reduce the complexity, for instance\n",
    "by using simple approximate expressions instead of exact formulas.You\n",
    "might feel that there is something essentially wrong with substituting in-\n",
    "exact results for exact ones but this is not really the case, as the following\n",
    "example illustrates."
   ]
  },
  {
   "cell_type": "markdown",
   "id": "1486ab09-c7b9-4a88-a23d-b968e02ac6fe",
   "metadata": {},
   "source": [
    "The period of a simple pendulum of length $L$ is $T_0 = 2\\pi \\sqrt{g/L}$,\n",
    "where $g$ is the acceleration of gravity. (This result will be derived in\n",
    "Chapter 3.) The accuracy of a clock driven by the pendulum depends\n",
    "on $L$ remaining constant, but $L$ can change due to thermal expansion\n",
    "and possibly aging effects. The problem is to find how sensitive the\n",
    "period is to small changes in length. If the length changes by some\n",
    "amount $l$, the new period is $T = 2\\pi \\sqrt{g/(L + l)}$. The change in the period\n",
    "is  \n",
    "\n",
    "$$ \\Delta T = T- T_0 = 2\\pi \\left(\\sqrt{\\frac{g}{L+l}} - \\sqrt{\\frac{g}{L}}\\right)$$"
   ]
  },
  {
   "cell_type": "markdown",
   "id": "78c56ef4-4351-4482-a788-3647c260cf6f",
   "metadata": {},
   "source": [
    "This equation is exact but not particularly informative. It gives little in-\n",
    "sight as to how $\\Delta T$ depends on the change in length $l$. Also, if $l \\ll L$,\n",
    "which is generally the case of interest, $\\Delta T$ is the small difference of two\n",
    "large numbers, which makes the result very sensitive to numerical errors.  To elaborate, let's take the derivative of $\\Delta T$ with respect to $l$.  \n",
    "\n",
    "$$ \\Delta T := \\Delta T(l) \\quad\\quad \\Delta T'(l) = -\\pi \\sqrt{\\frac{g}{(L+l)^3}}$$"
   ]
  },
  {
   "cell_type": "markdown",
   "id": "e6b3b9a3-fa88-48d6-858f-a71c489018a6",
   "metadata": {},
   "source": [
    "The absolute value of the derivative of $\\Delta T$ with respect to $l$ is at it's largest when $l=0$, which confirms what we are elaborating on.  You should know that said derivative correlates with how sensitive $\\Delta T$ is to changes in $l$ as a function of $l$.  As $l$ increases, $|\\Delta T'(l)|$ decreases which goes hand in hand with the fact that the larger $l$ gets the less sensitive $\\Delta T$ is to changes in $l$."
   ]
  },
  {
   "cell_type": "markdown",
   "id": "fc912ff6-658c-4e54-b6bc-20f2212caf8c",
   "metadata": {},
   "source": [
    "Now, by recasting the form of $\\Delta T$ , both of these problems can be\n",
    "solved. The trick is to write $ \\Delta T$ as a power series in the small parameter\n",
    "$x = l/L$. We have  \n",
    "\n",
    "\\begin{align*}\n",
    "    \\Delta T &= 2\\pi \\left(\\sqrt{\\frac{g}{L}\\frac{1}{1+x}} - \\sqrt{\\frac{g}{L}}\\right) \\\\ \\\\\n",
    "     &= 2\\pi\\sqrt{\\frac{g}{L}}\\left(\\frac{1}{1+x} - 1\\right) \\\\ \\\\\n",
    "     &= T_0\\left(\\sqrt{\\frac{1}{1+x}}-1\\right)\n",
    "\\end{align*}"
   ]
  },
  {
   "cell_type": "markdown",
   "id": "48c9faf2-e191-40aa-b600-0dfecae2d464",
   "metadata": {},
   "source": [
    "### Taylor Series\n",
    "\n",
    "$$ f(x) = a_0 + a_1x + a_2x^2 + \\dotsb \\quad\\quad\\text{or}\\quad\\quad f(x)=\\sum_{i=0}^\\infty a_ix^i$$"
   ]
  },
  {
   "cell_type": "markdown",
   "id": "c8761c97-9ce3-4243-94ea-6288d8e967d2",
   "metadata": {},
   "source": [
    "To find the first coefficient $a_0$:  \n",
    "\n",
    "$$ f(0) = a_0$$"
   ]
  },
  {
   "cell_type": "markdown",
   "id": "3f454d13-6a2a-4248-b0ee-389023e31c33",
   "metadata": {},
   "source": [
    "To find the second:  \n",
    "\n",
    "$$ f'(x) = a_1 + 2a_2x + 3a_3x^2 + \\dotsb \\quad\\quad\\text{or}\\quad\\quad f'(x) = \\sum_{i=1}^\\infty ia_ix^{i-1}$$"
   ]
  },
  {
   "cell_type": "markdown",
   "id": "0debbc69-d4a5-446e-8918-4613f24b7db4",
   "metadata": {},
   "source": [
    "$$ f'(0) = a_1$$"
   ]
  },
  {
   "cell_type": "markdown",
   "id": "3262a952-218a-4bbb-b86c-884258ed20f5",
   "metadata": {},
   "source": [
    "For the third, we take the second derivative of $f(x)$.  \n",
    "\n",
    "$$ f''(x) = 2a_2 + 6a_3x + 12a_4x^2 + \\dotsb \\quad\\quad\\text{or}\\quad\\quad f''(x) = \\sum_{i=2}^\\infty i(i-1)a_ix^{i-2}$$"
   ]
  },
  {
   "cell_type": "markdown",
   "id": "e61df42d-6fc7-487a-bdf9-6f423e89557f",
   "metadata": {},
   "source": [
    "$$ f''(0) = 2a_2$$"
   ]
  },
  {
   "cell_type": "markdown",
   "id": "cef74eff-0595-4c07-afa6-c5eddfe404f5",
   "metadata": {},
   "source": [
    "In general, for the coefficient with an index or subscript of $k$ (i.e. $a_k$), we take the $k$'th derivative of $f(x)$, denoted as $f^{(k)}(x)$.  \n",
    "\n",
    "$$ f^{(k)}(x) = k! a_k + \\frac{(k+1)!}{1!}a_{k+1}x + \\frac{(k+2)!}{2!}a_{k+2}x^2 + \\dotsb$$"
   ]
  },
  {
   "cell_type": "markdown",
   "id": "4a06a485-1e1e-49e4-a354-1caf4794b16f",
   "metadata": {},
   "source": [
    "$$ f^{(k)}(0) = k! a_k$$"
   ]
  },
  {
   "cell_type": "markdown",
   "id": "74d4d076-2a0b-475f-9ce4-f891979f74e6",
   "metadata": {},
   "source": [
    "### Differentials  \n",
    "\n",
    "Often we need a simple approximation for the change in some function\n",
    "$f (x)$ when $x$ is changed to $x + \\Delta x$. We shall denote the change by $\\Delta f =\n",
    "f (x + \\Delta x) − f (x)$. The Taylor series for $f (x) $about the point $x$ gives  \n",
    "\n",
    "$$ f(x+\\Delta x) = \\sum_{i=0}^\\infty \\frac{f^{(i)}(x)}{i!}(\\Delta x)^i$$  \n",
    "\n",
    "$$ = f(x) + f'(x)\\Delta x + \\frac{f''(x)}{2}(\\Delta x)^2 + \\dotsb$$"
   ]
  },
  {
   "cell_type": "markdown",
   "id": "1cf0a286-a70a-4cc4-9029-0abced1bbb46",
   "metadata": {},
   "source": [
    "The above follows from equation (N2.1) in the [Derivatives](http://localhost:8889/lab/tree/Derivatives.ipynb#Maclaren-Series) notebook.  To show this, let \n",
    "\n",
    "$$ g(x) := f(x+\\Delta x)$$"
   ]
  },
  {
   "cell_type": "markdown",
   "id": "7bb72cb2-bb4f-4720-a038-9e91e99ce68d",
   "metadata": {},
   "source": [
    "In the above equation, '$x$' corresponds to '$a$' in the context of (N2.1), while '$\\Delta x$' corresponds to '$x$'.  Omitting terms of order $(\\Delta x)^2$ and higher yields a simple linear approximation.  \n",
    "\n",
    "$$ \\Delta f = f(x + \\Delta x ) - f(x) \\approxeq f'(x)\\Delta x$$"
   ]
  },
  {
   "cell_type": "markdown",
   "id": "7759fb5e-9d19-4c34-ab58-b0c8150762a1",
   "metadata": {},
   "source": [
    "This approximation becomes increasingly accurate the smaller the size of $\\Delta x$, but for finite values of $\\Delta x$, is, of course, only an approximation. "
   ]
  },
  {
   "cell_type": "markdown",
   "id": "3f7a63c8-c659-4d59-8e5b-4961e0f5b7ed",
   "metadata": {},
   "source": [
    "## Problems\n",
    "\n",
    "#### Problem 1  \n",
    "\n",
    "**a)**  \n",
    "\n",
    "$$ \\mathbf{A} + \\mathbf{B} = \\langle 7,-2,9\\rangle$$"
   ]
  },
  {
   "cell_type": "markdown",
   "id": "ba01bf3a-89ca-4051-952a-5729ba9acf2c",
   "metadata": {},
   "source": [
    "**b)**  $$ \\mathbf{A} - \\mathbf{B} = \\langle -3,-4,5\\rangle$$"
   ]
  },
  {
   "cell_type": "markdown",
   "id": "c8c7e325-b597-4ff2-a40c-dbe0b9bb31e4",
   "metadata": {},
   "source": [
    "**c)**  $$ \\mathbf{A} \\cdot \\mathbf{B} = 10 + (-3) + 14 = 21$$"
   ]
  },
  {
   "cell_type": "markdown",
   "id": "b9466072-0417-459e-92b7-9822a785b55d",
   "metadata": {},
   "source": [
    "**d)**  $$ \\mathbf{A} \\times \\mathbf{B} = AB\\sin\\theta \\,\\mathbf{n} = \\left|\\begin{matrix}\\mathbf{i} & \\mathbf{j} & \\mathbf{k} \\\\ 2 & -3 & 7 \\\\ 5 & 1 & 2 \\end{matrix}\\right|$$"
   ]
  },
  {
   "cell_type": "markdown",
   "id": "61100a03-80bd-4ff0-a473-1bf81ebfea2e",
   "metadata": {},
   "source": [
    "$$ -(6 + 7)\\,\\mathbf{i} - (4 - 35)\\,\\mathbf{j} + (2 + 15)\\mathbf{k} = \\langle -13,31,17\\rangle$$"
   ]
  },
  {
   "cell_type": "markdown",
   "id": "ff9b4357-8e7b-429c-90a7-b475fe0e877d",
   "metadata": {},
   "source": [
    "#### Problem 2\n",
    "**a)**  \n",
    "\n",
    "$$ \\mathbf{A}^2 = A^2 = 3^2 + 4 + 25 = 9 + 4 + 25 = 13 + 25 = 38$$"
   ]
  },
  {
   "cell_type": "markdown",
   "id": "1f41c1dc-2b4b-421a-bb1e-b8bb4b076a5c",
   "metadata": {},
   "source": [
    "**b)**  $$ \\mathbf{B}^2 = B^2 = 36 + 49 + 16 = 49 + 62 = 111$$"
   ]
  },
  {
   "cell_type": "markdown",
   "id": "68632080-25c5-44cf-ba05-3b54e589aff2",
   "metadata": {},
   "source": [
    "**c)**  \n",
    "\n",
    "$$(\\mathbf{A}\\cdot\\mathbf{B})^2  = (18 + 14 + 20)^2 = (32+20)^2 = 52^2$$"
   ]
  },
  {
   "cell_type": "markdown",
   "id": "6add6fb0-0d2c-4e32-9b46-fbb8aaf3aa2a",
   "metadata": {},
   "source": [
    "#### Problem 3\n",
    "\n",
    "Find the cosine and sine of the angle between $\\mathbf{A} = \\langle 3,1,1\\rangle$ and $\\mathbf{B} = \\langle -2,1,1\\rangle $."
   ]
  },
  {
   "cell_type": "markdown",
   "id": "faee5d4a-8e2a-4fea-8bef-c0061711eb80",
   "metadata": {},
   "source": [
    "$$ \\mathbf{A}\\cdot\\mathbf{B} = AB\\cos\\theta = -6 + 1 + 1 = -4$$"
   ]
  },
  {
   "cell_type": "markdown",
   "id": "c4ca35cc-87e7-40b7-b7c6-3e78346822f2",
   "metadata": {},
   "source": [
    "$$ \\cos\\theta = -\\frac{4}{AB} = -\\frac{4}{\\sqrt{(9 + 2)(4 + 2)}}$$"
   ]
  },
  {
   "cell_type": "markdown",
   "id": "417a0967-f3de-4f91-81a5-2dd29f141b0b",
   "metadata": {},
   "source": [
    "$$ - \\frac{4}{\\sqrt{66}}$$"
   ]
  },
  {
   "cell_type": "markdown",
   "id": "69cdab7e-937d-4a82-9f63-50acfacc034f",
   "metadata": {},
   "source": [
    "$$ \\mathbf{A}\\times\\mathbf{B} = AB\\sin\\theta\\,\\mathbf{n} = \\left|\\begin{matrix}\\mathbf{i} & \\mathbf{j} & \\mathbf{k} \\\\ 3 & 1 & 1 \\\\ -2 & 1 & 1\\end{matrix}\\right|$$"
   ]
  },
  {
   "cell_type": "markdown",
   "id": "d1634801-9118-4a2c-8334-20584829df9d",
   "metadata": {},
   "source": [
    "$$ = (0)\\,\\mathbf{j} - (3 + 2)\\,\\mathbf{j} + (3+2)\\,\\mathbf{k} = \\langle 0,-5,5\\rangle = 5\\langle 0,-1,1\\rangle$$"
   ]
  },
  {
   "cell_type": "markdown",
   "id": "e7a96d37-659c-42e0-8f8c-1ee7c250334b",
   "metadata": {},
   "source": [
    "$$ |\\mathbf{A}\\times\\mathbf{B}| = AB\\sin\\theta = 5\\sqrt{2}$$"
   ]
  },
  {
   "cell_type": "markdown",
   "id": "3c6b6d23-272a-4109-83b2-70f09de71a6f",
   "metadata": {},
   "source": [
    "$$ \\sin\\theta = \\frac{5\\sqrt{2}}{\\sqrt{66}} = \\frac{5}{\\sqrt{33}}$$"
   ]
  },
  {
   "cell_type": "markdown",
   "id": "19b4f3af-4e59-4455-8b28-779f30bdb550",
   "metadata": {},
   "source": [
    "### Problem 4\n",
    "\n",
    "The direction cosines of a vector are the cosines of the angles it\n",
    "makes with the coordinate axes. The cosines of the angles between\n",
    "the vector and the $x$, $y$, and $z$ axes are usually called, in turn, $\\alpha$, $\\beta$,\n",
    "and $\\gamma$. Prove that $\\alpha^2 + \\beta^2 + \\gamma^2 = 1$, using either geometry or vector\n",
    "algebra."
   ]
  },
  {
   "cell_type": "markdown",
   "id": "143b7b90-547e-476a-9e26-8d6bfe516236",
   "metadata": {},
   "source": [
    "Let $\\mathbf{a}$ be defined as:  \n",
    "\n",
    "$$ \\mathbf{a} := \\langle a_x,a_y,a_z\\rangle $$"
   ]
  },
  {
   "cell_type": "markdown",
   "id": "8416e69a-a3b7-4a47-9ed5-e364befac02d",
   "metadata": {},
   "source": [
    "First, let's prove that:  \n",
    "\n",
    "\\begin{equation}\\tag{4.1}\n",
    "    \\mathbf{a} = a\\langle \\cos\\alpha,\\cos\\beta,\\cos\\gamma\\rangle\n",
    "\\end{equation}"
   ]
  },
  {
   "cell_type": "markdown",
   "id": "2b01205f-b5a9-4895-bf67-e75979e0156b",
   "metadata": {},
   "source": [
    "$$ \\mathbf{a}\\cdot \\mathbf{i} = a\\cos\\alpha \\quad\\quad \\mathbf{a}\\cdot \\mathbf{j} = a\\cos\\beta \\quad\\quad \\mathbf{a}\\cdot \\mathbf{k} = a\\cos\\gamma$$"
   ]
  },
  {
   "cell_type": "markdown",
   "id": "af59bc3b-5d5b-4748-8ed7-c078d1521090",
   "metadata": {},
   "source": [
    "$$ \\mathbf{a}\\cdot \\mathbf{i} = a_x \\quad\\quad \\mathbf{a}\\cdot\\mathbf{j} = a_y \\quad\\quad \\mathbf{a}\\cdot \\mathbf{k} = a_z$$"
   ]
  },
  {
   "cell_type": "markdown",
   "id": "b9e3a13b-6a57-472c-b434-95a27a76f38a",
   "metadata": {},
   "source": [
    "Therefore equation (4.1).  \n",
    "\n",
    "$$ a = a\\sqrt{\\cos^2\\alpha + \\cos^2\\beta + \\cos^2\\gamma}$$"
   ]
  },
  {
   "cell_type": "markdown",
   "id": "ee70e243-f4ef-42a4-be40-f7fc5e5b6086",
   "metadata": {},
   "source": [
    "$$ \\sqrt{\\cos^2\\alpha + \\cos^2\\beta + \\cos^2\\gamma} = 1$$"
   ]
  },
  {
   "cell_type": "markdown",
   "id": "aea7284a-73c4-4652-b0d0-15466ba66a16",
   "metadata": {},
   "source": [
    "$$ \\cos^2\\alpha + \\cos^2\\beta + \\cos^2\\gamma = 1$$"
   ]
  },
  {
   "cell_type": "markdown",
   "id": "ab0744c5-3d18-461d-b159-990088b212af",
   "metadata": {},
   "source": [
    "Now, let $\\mathbf{r}$ be the projection of $\\mathbf{a}$ onto the $xy$-plane.  \n",
    "\n",
    "$$ \\mathbf{r} = a\\langle \\cos\\alpha,\\cos\\beta,0\\rangle $$ $$$$"
   ]
  },
  {
   "cell_type": "markdown",
   "id": "d2f99c22-d3ac-4afc-8988-d0cd20969760",
   "metadata": {},
   "source": [
    "$$ \\sin\\gamma = r = a\\sqrt{\\cos^2\\alpha + \\cos^2\\beta}$$"
   ]
  },
  {
   "cell_type": "markdown",
   "id": "92a65538-7251-49e7-be1d-6d5b7e065062",
   "metadata": {},
   "source": [
    "### Problem 5\n",
    "Show that if $|\\mathbf{A} − \\mathbf{B}| = |\\mathbf{A} + \\mathbf{B}|$, then $\\mathbf{A}$ and $\\mathbf{B}$ are perpendicular."
   ]
  },
  {
   "cell_type": "markdown",
   "id": "c43f5f0c-237a-4c6b-a252-c88db8a73630",
   "metadata": {},
   "source": [
    "**Proposition**:  \n",
    "\\begin{equation}\\tag{5.1}\n",
    "    |\\mathbf{A}-\\mathbf{B}| = |\\mathbf{A} + \\mathbf{B}| \\quad\\implies\\quad \\mathbf{A}\\perp \\mathbf{B}\n",
    "\\end{equation}"
   ]
  },
  {
   "cell_type": "markdown",
   "id": "ff664743-1f58-44c4-9aed-2dceaaba2866",
   "metadata": {},
   "source": [
    "**Proof**:  \n",
    "\n",
    "\\begin{equation}\\tag{5.2}\n",
    "    \\mathbf{A}\\perp\\mathbf{B} \\quad\\iff\\quad \\mathbf{A}\\cdot \\mathbf{B} = 0\n",
    "\\end{equation}"
   ]
  },
  {
   "cell_type": "markdown",
   "id": "d019485d-136b-4214-8261-ffe7d83da9ee",
   "metadata": {},
   "source": [
    "$$ |\\mathbf{A}-\\mathbf{B}| = |\\mathbf{A} + \\mathbf{B}| \\quad\\iff$$"
   ]
  },
  {
   "cell_type": "markdown",
   "id": "aee41e4d-539e-4e09-9fae-8f8c90d1af4e",
   "metadata": {},
   "source": [
    "$$ (a_1-b_1)^2 + (a_2-b_2)^2 + (a_3-b_3)^2 = (a_1+b_1)^2 + (a_2+b_2)^2 + (a_3 + b_3)^2$$"
   ]
  },
  {
   "cell_type": "markdown",
   "id": "0680b4a2-da47-47af-a001-b97841faf0f6",
   "metadata": {},
   "source": [
    "$$ \\iff\\quad -2a_1b_1 - 2a_2b_2 - 2a_3b_3 = 2a_1b_1 + 2a_2b_2 + 2a_3b_3$$"
   ]
  },
  {
   "cell_type": "markdown",
   "id": "de804f29-22c4-4cc4-b31e-1273997fc795",
   "metadata": {},
   "source": [
    "$$ \\iff\\quad -\\mathbf{A}\\cdot\\mathbf{B} = \\mathbf{A}\\cdot\\mathbf{B} \\quad\\iff\\quad \\mathbf{A}\\cdot\\mathbf{B}$$"
   ]
  },
  {
   "cell_type": "markdown",
   "id": "c60a0d30-a39f-4ad5-82d2-725a60b4ba6f",
   "metadata": {},
   "source": [
    "$$ \\iff\\quad \\mathbf{A}\\perp\\mathbf{B}$$"
   ]
  },
  {
   "cell_type": "markdown",
   "id": "d746e2cf-f3f0-4661-bd82-380856062b8b",
   "metadata": {},
   "source": [
    "Q.E.D."
   ]
  },
  {
   "cell_type": "markdown",
   "id": "70442b65-90fe-4615-b7e8-80842cf46dcd",
   "metadata": {},
   "source": [
    "### Problem 6\n",
    "Show that the diagonals of an equilateral parallelogram are perpendicular.  \n",
    "\n",
    "**Proposition**:  \n",
    "\n",
    "\\begin{equation}\\tag{6.1}\n",
    "    (\\mathbf{A} + \\mathbf{B}) \\cdot (\\mathbf{B}-\\mathbf{A}) = 0 \\quad\\quad\\text{where }\\, A = B\n",
    "\\end{equation}"
   ]
  },
  {
   "cell_type": "markdown",
   "id": "e2aac4a5-5b64-4445-b5a1-b439856b8820",
   "metadata": {},
   "source": [
    "**Proof**:  \n",
    "\n",
    "$$ (\\mathbf{A} + \\mathbf{B})\\cdot(\\mathbf{B}-\\mathbf{A}) = 0 \\quad\\implies$$"
   ]
  },
  {
   "cell_type": "markdown",
   "id": "a34ff197-68d6-4b69-bea8-c2af6958fc2f",
   "metadata": {},
   "source": [
    "$$ (a_1+b_1)(b_1-a_1) + (a_2+b_2)(b_2-a_2) + (a_3+b_3)(b_3-a_3) = 0 $$"
   ]
  },
  {
   "cell_type": "markdown",
   "id": "bd468eed-70a1-406f-81b7-16495b5f925a",
   "metadata": {},
   "source": [
    "$$ b_2^2 - a_1^2 + b_2^2 - a_2^2 + b_3^2 - a_3^2 = 0 \\quad\\implies$$"
   ]
  },
  {
   "cell_type": "markdown",
   "id": "06a069ab-4668-49a7-8df8-809b044dc89c",
   "metadata": {},
   "source": [
    "$$ A=B$$"
   ]
  },
  {
   "cell_type": "markdown",
   "id": "efa9091a-e24a-474b-872a-df3c1e58ef4d",
   "metadata": {},
   "source": [
    "Q.E.D."
   ]
  },
  {
   "cell_type": "markdown",
   "id": "c9877681-43d9-4919-95dc-e4946acf1293",
   "metadata": {},
   "source": [
    "### Problem 7\n",
    "\n",
    "Let $\\mathbf{\\hat{a}}$ and $\\mathbf{\\hat{b}}$ be unit vectors in the $x\\!−\\!y$ plane making angles $\\theta$ and\n",
    "$\\phi$ with the $x$-axis, respectively. Show that $\\mathbf{\\hat{a}}$ = $\\cos\\theta \\,\\mathbf{i} + \\sin \\theta\\,\\mathbf{j}$ and $\\mathbf{\\hat{b}} =\n",
    "\\cos \\phi\\,\\mathbf{i} + \\sin \\phi\\,\\mathbf{j}$, and using vector algebra prove that  \n",
    "\n",
    "\\begin{equation}\\tag{7.1}\n",
    "    \\cos(\\theta − \\phi) = \\cos \\theta \\cos \\phi + \\sin \\theta \\sin \\phi\n",
    "\\end{equation}"
   ]
  },
  {
   "cell_type": "markdown",
   "id": "326e5e6a-3288-45f3-8468-ca6312416b79",
   "metadata": {},
   "source": [
    "**Proof**:  \n",
    "\n",
    "$$ \\mathbf{\\hat{a}}\\cdot \\mathbf{i} = \\langle \\hat{a}_1,\\hat{a}_2\\rangle \\cdot \\langle 1,0\\rangle = \\hat{a}_1 = \\cos\\theta$$"
   ]
  },
  {
   "cell_type": "markdown",
   "id": "63d23d01-cee1-4b80-a2b6-09aada9f03c3",
   "metadata": {},
   "source": [
    "$$ \\mathbf{\\hat{a}}\\cdot\\mathbf{j} = \\hat{a}_2 = \\cos\\beta_a = \\cos(0.5\\pi - \\theta) = \\sin\\theta$$"
   ]
  },
  {
   "cell_type": "markdown",
   "id": "e3fe2a5b-91bc-4bf3-aca3-9e51a6bde48a",
   "metadata": {},
   "source": [
    "Therefore,  \n",
    "\n",
    "$$ \\mathbf{\\hat{a}} = \\langle \\cos\\theta,\\sin\\theta\\rangle \\quad\\quad\\text{and}\\quad\\quad \\mathbf{\\hat{b}} = \\langle \\cos\\phi,\\sin\\phi\\rangle$$"
   ]
  },
  {
   "cell_type": "markdown",
   "id": "94b43c0e-bd3c-4452-9f53-174faac9d41b",
   "metadata": {},
   "source": [
    "Now, for (7.1).  \n",
    "\n",
    "$$ \\mathbf{\\hat{a}}\\cdot\\mathbf{\\hat{b}} = \\cos(\\theta-\\phi) = a_1b_1 + a_2b_2 = \\cos\\theta\\cos\\phi + \\sin\\theta\\sin\\phi$$"
   ]
  },
  {
   "cell_type": "markdown",
   "id": "b7bc56e1-e27e-4891-ab77-c11b1dd1ef05",
   "metadata": {},
   "source": [
    "Q.E.D."
   ]
  },
  {
   "cell_type": "markdown",
   "id": "dc8db82c-0b27-4cb5-addf-de7518f60810",
   "metadata": {},
   "source": [
    "### Problem 8\n",
    "\n",
    "Show that the volume of a parallelepiped with edges $\\mathbf{A}$, $\\mathbf{B}$, and $\\mathbf{C}$\n",
    "is given by $\\mathbf{A} \\cdot (\\mathbf{B} \\times \\mathbf{C})$."
   ]
  },
  {
   "cell_type": "markdown",
   "id": "c7d317f8-53c4-4809-bda4-c46b9996752c",
   "metadata": {},
   "source": [
    "**Proposition**:  \n",
    "\n",
    "\\begin{equation}\\tag{8.1}\n",
    "    V = \\mathbf{A}\\cdot(\\mathbf{B}\\times\\mathbf{C})\n",
    "\\end{equation}"
   ]
  },
  {
   "cell_type": "markdown",
   "id": "930f8a5c-16d9-4126-bf93-d49e01887a00",
   "metadata": {},
   "source": [
    "where $V$ is the volume of said parallelepiped."
   ]
  },
  {
   "cell_type": "markdown",
   "id": "7b8d8afe-9e4c-416c-b594-a594825281f8",
   "metadata": {},
   "source": [
    "**Proof:**  \n",
    "\n",
    "The area of the parallelogram spanned by $\\mathbf{B}$ and $\\mathbf{C}$, which is one of the faces of our parallelepiped, is given by:  \n",
    "\n",
    "$$ \\text{area} = BC\\sin\\theta = |\\mathbf{B}\\times\\mathbf{C}|$$"
   ]
  },
  {
   "cell_type": "markdown",
   "id": "051f45d8-2c5f-4dc9-a76a-df18ab15e0e8",
   "metadata": {},
   "source": [
    "where $\\theta$ is the angle between $\\mathbf{B}$ and $\\mathbf{C}$.  \n",
    "\n",
    "Now, recall that $V$ is also equal to the determinant of the matrix with $\\mathbf{A}$, $\\mathbf{B}$, and $\\mathbf{C}$ as either row or column vectors.  \n",
    "\n",
    "\n",
    "$$ V = \\left|\\begin{matrix}\\tag{8.2} a_1 & a_2 & a_3 \\\\ b_1 & b_2 & b_3 \\\\ c_1 & c_2 & c_3\\end{matrix}\\right| $$"
   ]
  },
  {
   "cell_type": "markdown",
   "id": "bddde68e-2343-460c-a9cb-82d0ac7f6858",
   "metadata": {},
   "source": [
    "$$ = a_1(b_2c_3-b_3c_2) - a_2(b_1c_3-b_3c_1) + a_3(b_1c_2 - b_2c_1)$$"
   ]
  },
  {
   "cell_type": "markdown",
   "id": "38770d2d-df33-4dc0-9b07-ffb167f8a4ea",
   "metadata": {},
   "source": [
    "$$ \\mathbf{B}\\times\\mathbf{C} = \\left|\\begin{matrix}\\mathbf{i} & \\mathbf{j} & \\mathbf{k} \\\\ b_1 & b_2 & b_3 \\\\ c_1 & c_2 & c_3\\end{matrix}\\right|$$"
   ]
  },
  {
   "cell_type": "markdown",
   "id": "c38109a2-d44e-4665-893d-45b03b648915",
   "metadata": {},
   "source": [
    "$$ (b_2c_3 - b_3c_2)\\,\\mathbf{i} - (b_1c_3 - b_3c_1)\\,\\mathbf{j} + (b_1c_2 - b_2c_1)\\,\\mathbf{k}$$"
   ]
  },
  {
   "cell_type": "markdown",
   "id": "22a897eb-6745-4a12-8914-dfc7b8959359",
   "metadata": {},
   "source": [
    "Let $\\mathbf{N}:=\\mathbf{B}\\times\\mathbf{C}$.  \n",
    "\n",
    "$$ \\mathbf{A}\\cdot(\\mathbf{B}\\times\\mathbf{C}) = a_1n_1 + a_2n_2 + a_3n_3 $$"
   ]
  },
  {
   "cell_type": "markdown",
   "id": "bf3ef781-f86c-409d-af59-56d5ed6ca417",
   "metadata": {},
   "source": [
    "Via the above equation and equation (8.2) we have our proposition.  Q.E.D."
   ]
  },
  {
   "cell_type": "markdown",
   "id": "510f26a0-ae05-41b8-8e65-501aa36e2863",
   "metadata": {},
   "source": [
    "### Problem 9\n",
    "\n",
    "Consider two points located at $\\mathbf{r}_1$ and $\\mathbf{r}_2$, separated by distance\n",
    "$r = |\\mathbf{r}_1 − \\mathbf{r}_2|$ . Find a vector $\\mathbf{A}$ from the origin to a point on the line\n",
    "between $\\mathbf{r}_1$ and $\\mathbf{r}_2$ at distance $xr$ from the point at $\\mathbf{r}_1$ where $x$ is\n",
    "some number."
   ]
  },
  {
   "cell_type": "markdown",
   "id": "6b160654-d498-4e02-a84e-93955a96f5b0",
   "metadata": {},
   "source": [
    "Let  \n",
    "\n",
    "$$\\mathbf{a}:=\\mathbf{r}_2-\\mathbf{r}_1$$"
   ]
  },
  {
   "cell_type": "markdown",
   "id": "38fb36dd-7442-4b99-9492-41c764065d2e",
   "metadata": {},
   "source": [
    "$$ \\mathbf{A} = \\mathbf{r}_1 + x\\mathbf{a}$$"
   ]
  },
  {
   "cell_type": "markdown",
   "id": "45eb296c-7d21-489b-876b-49ffb2c8a1b7",
   "metadata": {},
   "source": [
    "### Problem 10\n",
    "\n",
    "Consider two points located at $\\mathbf{r}_1$ and $\\mathbf{r}_2$ , and separated by distance\n",
    "$r= |\\mathbf{r}_1 −\\mathbf{r}_2|$. Find a time-dependent vector $\\mathbf{A}(t)$ from the origin that\n",
    "is at $\\mathbf{r}_1$ at time $t_1$ and at $\\mathbf{r}_2$ at time $t_2 = t_1 + T$ . Assume that $\\mathbf{A}(t)$\n",
    "moves uniformly along the straight line between the two points."
   ]
  },
  {
   "cell_type": "markdown",
   "id": "86322900-7156-495e-924d-be57150762be",
   "metadata": {},
   "source": [
    "$$ \\mathbf{A}(t) = \\mathbf{r}_1 + (t-t_1)\\mathbf{a}$$"
   ]
  },
  {
   "cell_type": "markdown",
   "id": "f584aa63-f18a-4507-965a-7df5e9101f62",
   "metadata": {},
   "source": [
    "$$ \\mathbf{A}(t_1) = \\mathbf{r}_1$$"
   ]
  },
  {
   "cell_type": "markdown",
   "id": "ac64722a-b659-4f2d-85f5-7da62458ff32",
   "metadata": {},
   "source": [
    "$$ \\mathbf{A}(t_1+T) = \\mathbf{r}_1 + T\\mathbf{a}$$"
   ]
  },
  {
   "cell_type": "markdown",
   "id": "2322e237-c976-4aec-8d76-f61626642e83",
   "metadata": {},
   "source": [
    "$$ \\mathbf{A}(t_1+1) = \\mathbf{r}_2$$"
   ]
  },
  {
   "cell_type": "markdown",
   "id": "11daf95e-87ec-4277-b277-46e5b005533e",
   "metadata": {},
   "source": [
    "Via the above two equations,  \n",
    "\n",
    "$$ \\frac{\\Delta \\mathbf{A}}{\\Delta t} = \\frac{\\mathbf{A}(t+\\Delta t) - \\mathbf{A}(t)}{\\Delta t} = \\mathbf{a}$$"
   ]
  },
  {
   "cell_type": "markdown",
   "id": "eeaafe81-fd07-4cfc-95a4-3b6a9baef696",
   "metadata": {},
   "source": [
    "### Problem 11\n",
    "\n",
    "The shortest distance between two points on the Earth (considered\n",
    "to be a perfect sphere of radius $R$) is the distance along a great\n",
    "circle — the arc of a circle formed where a plane passing through\n",
    "the two points and the center of the Earth intersects the Earth’s\n",
    "surface.  \n",
    "\n",
    "The position of a point on the Earth is specified by the point’s\n",
    "longitude $\\phi$ and latitude $\\lambda$. Longitude is the angle between the\n",
    "meridian (a line from pole to pole) passing through the point and\n",
    "the “prime” meridian passing through Greenwich U.K. Longitude\n",
    "is taken to be positive to the east and negative to the west. Latitude is the angle from the Equator along the point’s meridian, taken positive to the north.  \n",
    "\n",
    "Let the vectors from the center of the Earth to the two points\n",
    "be $\\mathbf{r}_1$ and $\\mathbf{r}_2$ . The cosine of the angle $\\theta$ between them can be found\n",
    "from their dot product, so that the great circle distance between the\n",
    "points is $R\\theta$.   \n",
    "\n",
    "Find an expression for $\\theta$ in terms of the coordinates of the two\n",
    "points. Use a coordinate system with the $x$-axis in the equatorial\n",
    "plane and passing through the prime meridian; let the $z$-axis be\n",
    "on the polar axis, positive toward the north pole, as shown in the\n",
    "sketch."
   ]
  },
  {
   "cell_type": "markdown",
   "id": "ed11fec3-ce03-4e02-9692-e1f8e4abf4e5",
   "metadata": {},
   "source": [
    "#### Solution  \n",
    "\n",
    "To make things easier, let  \n",
    "\n",
    "$$ \\mathbf{A} := \\mathbf{r}_1\\quad\\quad\\text{and}\\quad\\quad\\mathbf{B}:=\\mathbf{r}_2$$"
   ]
  },
  {
   "cell_type": "markdown",
   "id": "5606849d-6581-4cb7-a0db-62ecc4bc6d05",
   "metadata": {},
   "source": [
    "To solve the problem, we must find a set of equations that relate spherical coordinates to $xyz$ or rectilinear coordinates.  \n",
    "\n",
    "$$ x = r\\cos\\phi \\quad\\quad y = r\\sin\\phi \\quad\\quad r = R\\cos\\lambda $$"
   ]
  },
  {
   "cell_type": "markdown",
   "id": "c855e5c8-7ace-4f63-bf2f-2ee94f310495",
   "metadata": {},
   "source": [
    "$$ z = R\\sin\\lambda$$"
   ]
  },
  {
   "cell_type": "markdown",
   "id": "b8d70a8e-5c35-41fa-ac36-a0fb64f831ef",
   "metadata": {},
   "source": [
    "$$ \\mathbf{A}\\cdot\\mathbf{B} = R^2\\cos\\theta = a_1b_1 + a_2b_2 + a_3b_3 $$"
   ]
  },
  {
   "cell_type": "markdown",
   "id": "41d14fcf-d739-4554-bfed-dff823a58992",
   "metadata": {},
   "source": [
    "$$= R^2\\cos\\phi_a\\cos\\lambda_a\\cos\\phi_b\\cos\\lambda_b + R^2\\sin\\phi_a\\cos\\lambda_a\\sin\\phi_b\\cos\\lambda_b + R^2\\sin\\lambda_a\\sin\\lambda_b$$"
   ]
  },
  {
   "cell_type": "markdown",
   "id": "997dd17c-937a-4c35-89fa-a585447ff289",
   "metadata": {},
   "source": [
    "Therefore,  \n",
    "\n",
    "$$ \\cos\\theta = \\cos\\lambda_a\\cos\\lambda_b(\\cos\\phi_a\\cos\\phi_b + \\sin\\phi_a\\sin\\phi_b) + \\sin\\lambda_a\\sin\\lambda_b$$"
   ]
  },
  {
   "cell_type": "markdown",
   "id": "7ec4a380-f3a3-41a1-a1d5-859f19707707",
   "metadata": {},
   "source": [
    "Via the trig. identity found in [Problem 7](#Problem-7) and the above equation,  \n",
    "\n",
    "$$ \\cos\\theta = \\cos\\lambda_a\\cos\\lambda_b\\cos(\\phi_a-\\phi_b) + \\sin\\lambda_a\\sin\\lambda_b$$"
   ]
  },
  {
   "cell_type": "markdown",
   "id": "03192b85-21f7-44d4-8668-9cd5dc599cb5",
   "metadata": {},
   "source": [
    "$$ = \\cos\\lambda_a\\cos\\lambda_b\\cos(\\phi_a-\\phi_b) + \\cos(\\lambda_a-\\lambda_b) - \\cos\\lambda_a\\cos\\lambda_b$$"
   ]
  },
  {
   "cell_type": "markdown",
   "id": "86bea9a1-4d89-4a10-bbe5-4dd6023bca6e",
   "metadata": {},
   "source": [
    "$$ = \\cos(\\lambda_a-\\lambda_b) + \\cos\\lambda_a\\cos\\lambda_b\\big(\\cos(\\phi_a-\\phi_b) - 1\\big)$$"
   ]
  },
  {
   "cell_type": "markdown",
   "id": "5d534d28-6497-4d97-82cd-4331c3a016df",
   "metadata": {},
   "source": [
    "### Problem 12\n",
    "The acceleration of gravity can be measured by projecting a body\n",
    "upward and measuring the time that it takes to pass two given\n",
    "points in both directions."
   ]
  },
  {
   "cell_type": "markdown",
   "id": "5b6afeaa-d350-4a71-802e-45d48b699fae",
   "metadata": {},
   "source": [
    "Show that if the time the body takes to pass a horizontal line $A$ in\n",
    "both directions is $T_A$, and the time it takes to go by a second line $B$ in both\n",
    "directions is $T_B$, then, assuming that the acceleration is constant,\n",
    "its magnitude is  \n",
    "\n",
    "\\begin{equation}\\tag{12.1}\n",
    "    g = \\frac{8h}{T_A^2 - T_B^2}\n",
    "\\end{equation}\n",
    "\n",
    "where $h$ is the distance between $A$ and $B$.  "
   ]
  },
  {
   "cell_type": "markdown",
   "id": "1ccd0baf-efd0-4ef9-b3c3-5ec36243ec84",
   "metadata": {},
   "source": [
    "#### Solution  \n",
    "\n",
    "Note that, according to the figure,  $B>A$.  We assume that the only force acting on the body from the moment it crosses $A$ for the first time, which is at $t=0$, to the moment it crosses $A$ for the second time, which is at $t=T_A$, is that which can be attributed to gravity.  Let $z(t)$ be the altitude of the body, henceforth $P$, as a function of time."
   ]
  },
  {
   "cell_type": "markdown",
   "id": "7dd81bb2-1fac-4315-b0a7-ad56ffd4691b",
   "metadata": {},
   "source": [
    "$$ v(t) = z'(t) \\quad\\quad\\text{and}\\quad\\quad a(t) = v'(t) = -g$$"
   ]
  },
  {
   "cell_type": "markdown",
   "id": "b2e40b4c-be5d-4398-8461-21ac13e07f35",
   "metadata": {},
   "source": [
    "$$ v(t) + K = \\int a(t)\\,\\mathrm{d}t = -gt$$"
   ]
  },
  {
   "cell_type": "markdown",
   "id": "cdd82c2d-0ccc-4410-9622-16fbb39ab6ea",
   "metadata": {},
   "source": [
    "$$ z(t) = \\int v(t)\\,\\mathrm{d}t = -0.5 g t^2 + Kt + A$$"
   ]
  },
  {
   "cell_type": "markdown",
   "id": "1e6ed488-71ab-4612-8e87-a5fd585b0c5b",
   "metadata": {},
   "source": [
    "$$ z(T_A) = -0.5gT_A^2 + KT_A + A = A$$"
   ]
  },
  {
   "cell_type": "markdown",
   "id": "fde8fc96-d20e-4959-bd18-e38d6f0ba4fa",
   "metadata": {},
   "source": [
    "$$ -0.5gT_A + K = 0 \\quad\\therefore\\quad K = 0.5gT_A$$"
   ]
  },
  {
   "cell_type": "markdown",
   "id": "b15d7ea2-cbb4-4f39-99ef-96466bc10ff8",
   "metadata": {},
   "source": [
    "$$ z(t) = -0.5 gt^2 + 0.5gT_A t + A$$"
   ]
  },
  {
   "cell_type": "markdown",
   "id": "eb239245-d00f-4040-88c4-1dd7a883faae",
   "metadata": {},
   "source": [
    "The solution to the following quadratic equation contains the endpoints of the time interval spanned by $T_B$.  \n",
    "\n",
    "$$ -0.5g t^2 + 0.5 gT_A t + A  = B$$"
   ]
  },
  {
   "cell_type": "markdown",
   "id": "3f606b4f-03cd-4c8e-ace4-462f39644d3a",
   "metadata": {},
   "source": [
    "$$ -0.5g t^2 + 0.5gT_A t - h = 0$$"
   ]
  },
  {
   "cell_type": "markdown",
   "id": "44e3ca17-494d-4503-a1b4-85a83ba71b68",
   "metadata": {},
   "source": [
    "Via the above equation and the quadratic formula,  \n",
    "\n",
    "$$ t = \\frac{0.5gT_A \\pm \\sqrt{0.25 g^2T_A^2 - 2hg}}{g}$$"
   ]
  },
  {
   "cell_type": "markdown",
   "id": "1fd399c5-a89a-45cc-814e-63e9a2901e03",
   "metadata": {},
   "source": [
    "Thus,  \n",
    "\n",
    "$$ T_B = \\frac{2}{g}\\,\\sqrt{0.25g^2 T_A^2 - 2hg}$$"
   ]
  },
  {
   "attachments": {},
   "cell_type": "markdown",
   "id": "e4e661e0-5ce5-4016-93fa-d760b76418e1",
   "metadata": {},
   "source": [
    "$$ \\frac{T_B^2 g^2}{4} = \\frac{g^2 T_A^2}{4} - 2hg \\quad\\therefore\\quad\\frac{T_B^2 g}{4} = \\frac{T_A^2 g}{4} - 2h$$"
   ]
  },
  {
   "attachments": {},
   "cell_type": "markdown",
   "id": "16f32ef2-da5d-4df1-abe0-948418a528d7",
   "metadata": {},
   "source": [
    "$$ g\\,\\frac{T_B^2 - T_A^2}{4} = -2h \\quad\\therefore\\quad g = \\frac{8h}{T_A^2 - T_B^2}$$"
   ]
  },
  {
   "cell_type": "markdown",
   "id": "7dc3cfbc-a1fd-448f-8bdf-7dcf4de425de",
   "metadata": {},
   "source": [
    "Q.E.D."
   ]
  },
  {
   "cell_type": "markdown",
   "id": "7a491ba8-2559-4ccb-9187-4dd49bb0ab37",
   "metadata": {},
   "source": [
    "### Problem 13\n",
    "\n",
    "A drum of radius $R$ rolls down a slope without slipping. Its axis\n",
    "has acceleration $a$ parallel to the slope. What is the drum’s angular\n",
    "acceleration $\\alpha$?"
   ]
  },
  {
   "cell_type": "markdown",
   "id": "d7372a33-9e95-4229-8550-46fe9e285c57",
   "metadata": {},
   "source": [
    "$$ x(t) = \\theta(t)R \\quad\\quad x'(t) = \\omega(t) R \\quad\\quad x''(t) = \\alpha(t)R = a$$"
   ]
  },
  {
   "cell_type": "markdown",
   "id": "e48f1e68-e16b-4a39-b2f9-28950656159d",
   "metadata": {},
   "source": [
    "$$ \\alpha = \\frac{a}{R}$$"
   ]
  },
  {
   "cell_type": "markdown",
   "id": "2ae1589a-47e9-4640-a088-e2fde84f0e88",
   "metadata": {},
   "source": [
    "### Problem 14\n",
    "\n",
    "At $t = 0$, an elevator departs from the ground with uniform speed.\n",
    "At time $T_1$ a child drops a marble through the floor. The marble\n",
    "falls with uniform acceleration $g = 9.8 \\mathrm{m}/\\mathrm{s}^2$, and hits the ground\n",
    "$T_2$ seconds later. Find the height of the elevator at time $T_1$."
   ]
  },
  {
   "cell_type": "markdown",
   "id": "3779191c-8d5f-49df-bca9-e13c8fa9db80",
   "metadata": {},
   "source": [
    "$$ \\, $$"
   ]
  },
  {
   "cell_type": "markdown",
   "id": "d907034d-4178-46b2-8937-90c92ffd4059",
   "metadata": {},
   "source": [
    "Let $h$ be the height of the elevator at $t=T_1$ and $v_0$ be the velocity of the elevator."
   ]
  },
  {
   "cell_type": "markdown",
   "id": "062d92e9-94e6-4818-b9f6-7c00a609f178",
   "metadata": {},
   "source": [
    "Let $f(t)$ and $g(t)$ be the height of the elevator and marble as a function of time respectively."
   ]
  },
  {
   "cell_type": "markdown",
   "id": "5314b258-a052-4263-ac80-c8459124982b",
   "metadata": {},
   "source": [
    "$$ f(t) = v_0 t \\quad\\text{for }\\, 0\\le t \\le T_1+T_2 $$"
   ]
  },
  {
   "cell_type": "markdown",
   "id": "63ea7ab3-ceb4-4f94-8301-65656416a76d",
   "metadata": {},
   "source": [
    "$$ g(t) = -\\frac{9.8}{2}\\frac{\\mathrm{m}}{\\mathrm{s}^2}(t-T_1)^2 + v_0(t-T_1) + h\\quad\\text{for}\\; T_1 \\le t \\le T_1+T_2$$"
   ]
  },
  {
   "cell_type": "markdown",
   "id": "f066daed-7617-41e9-8a11-5eec1545d9e1",
   "metadata": {},
   "source": [
    "$$ f(T_1) = v_0 T_1 = h $$"
   ]
  },
  {
   "cell_type": "markdown",
   "id": "d21c4c84-43cb-4742-aa3b-a030bdb3d0c6",
   "metadata": {},
   "source": [
    "$$ g'(t) = -9.8\\frac{\\mathrm{m}}{\\mathrm{s}^2}(t-T_1) + \\frac{h}{T_1}$$"
   ]
  },
  {
   "cell_type": "markdown",
   "id": "4cb95d68-585f-4f0a-b8d0-b2e80cfa3c52",
   "metadata": {},
   "source": [
    "Let $g:=-9.8\\mathrm{m}/\\mathrm{s}^2$.  \n",
    "\n",
    "$$ g'(T_1+T_2) = gT_2 + \\frac{h}{T_1} = 0$$"
   ]
  },
  {
   "cell_type": "markdown",
   "id": "76ae7778-fc55-40b9-bf27-f7ba858c0676",
   "metadata": {},
   "source": [
    "$$ T_2 = -\\frac{h}{T_1 g}$$"
   ]
  },
  {
   "cell_type": "markdown",
   "id": "928a6426-291f-4b16-bee9-00c737a9a4b7",
   "metadata": {},
   "source": [
    "$$ g(T_1+T_2) = 0.5gT_2^2 + \\frac{h}{T_1}T_2 + h = 0$$"
   ]
  },
  {
   "cell_type": "markdown",
   "id": "b9007e47-f4ef-4635-8bef-3878b0e398ea",
   "metadata": {},
   "source": [
    "$$ h\\left(1+\\frac{T_2}{T_1}\\right) = -\\frac{g}{2}T_2^2$$"
   ]
  },
  {
   "cell_type": "markdown",
   "id": "63f89b92-0be0-45a5-945f-0c0b56659d43",
   "metadata": {},
   "source": [
    "$$ h\\,\\frac{T_1+T_2}{T_1} = -\\frac{g}{2}T_2^2$$"
   ]
  },
  {
   "cell_type": "markdown",
   "id": "44556567-5cc9-40d1-9671-7c61b9c898cc",
   "metadata": {},
   "source": [
    "$$ h = -\\frac{g}{2}\\frac{T_2^2T_1}{T_1+T_2}$$"
   ]
  },
  {
   "cell_type": "markdown",
   "id": "b5f29e77-9d73-4236-9c37-7b503ee6e99e",
   "metadata": {},
   "source": [
    "### Problem 15\n",
    "By relative velocity we mean velocity with respect to a specified\n",
    "coordinate system. (The term velocity, alone, is understood to be\n",
    "relative to the observer’s coordinate system.)  "
   ]
  },
  {
   "cell_type": "markdown",
   "id": "33ebb53a-bf78-4763-b37a-c2e81fe40cde",
   "metadata": {},
   "source": [
    "**(a)** A point is observed to have velocity $\\mathbf{v}_A$ relative to coordinate system $A$. What is its velocity relative to coordinate system $B$,\n",
    "which is displaced from system $A$ by $\\mathbf{R}$?  Note that $\\mathbf{R}$ may change\n",
    "with time."
   ]
  },
  {
   "cell_type": "markdown",
   "id": "90ea4a37-6c64-4e8b-bf14-294a1aa5da15",
   "metadata": {},
   "source": [
    "Let $\\mathbf{r}_A(t)$  be the position vector that tracks our point, henceforth $P$, relative to coordinate system $A$ and $\\mathbf{r}(t) := \\mathbf{r}_A(t)$.  \n",
    "\n",
    "$$ \\mathbf{v}(t) = \\mathbf{r}'(t) = \\mathbf{v}_A \\quad\\quad\\text{and}\\quad\\quad \\mathbf{r}_B(t) = \\mathbf{r} - \\mathbf{R}$$"
   ]
  },
  {
   "cell_type": "markdown",
   "id": "dde2318f-a642-4268-9f84-f7befee8d652",
   "metadata": {},
   "source": [
    "$$ \\mathbf{v}_B(t) = \\mathbf{r}_B'(t) = \\mathbf{v} - \\mathbf{R}'(t)$$"
   ]
  },
  {
   "cell_type": "markdown",
   "id": "17aa26da-bace-4e43-96f0-2279e1250caf",
   "metadata": {},
   "source": [
    "Assuming $\\mathbf{R} = \\mathit{const}$, the velocity of $P$ relative to $A$ is equal to the velocity of $P$ relative to $B$."
   ]
  },
  {
   "cell_type": "markdown",
   "id": "f99bed20-7159-43b3-9070-d2c834bf53fc",
   "metadata": {},
   "source": [
    "**(b)** Particles $a$ and $b$ move in opposite directions around a circle\n",
    "with angular speed $\\omega$, as shown. At $t = 0$ they are both at the point\n",
    "$\\mathbf{r} = l\\,\\mathbf{j}$, where $l$ is the radius of the circle.\n",
    "Find the velocity of $a$ relative to $b$."
   ]
  },
  {
   "cell_type": "markdown",
   "id": "84917fa8-ce92-437b-ae4a-6d584b789513",
   "metadata": {},
   "source": [
    "Let $\\mathbf{r}_a(t)$ and $\\mathbf{r}_b(t)$ be the position vectors that tracks particles $a$ and $b$ relative to the center of the circle respectively.  Note that, unless stated otherwise, everything is relative to the center of our circle -- said center is denoted as $O$ -- which is the origin of the main reference frame or coordinate system;  For those that are familiar with the terminology of circuit analysis, $O$ is ground, while the origins of other secondary coordinate systems, which are defined relative to the main coordinate system, henceforth $C$, are analogous to reference nodes other than ground."
   ]
  },
  {
   "cell_type": "markdown",
   "id": "ae240fb9-7ffa-4c4e-8c17-29e3d8ee5056",
   "metadata": {},
   "source": [
    "Assuming $a$ moves in the clockwise direction,  \n",
    "\n",
    "$$ \\mathbf{r}_a(t) = l\\langle \\cos(0.5\\pi - \\omega t),\\sin(0.5\\pi - \\omega t)\\rangle$$"
   ]
  },
  {
   "cell_type": "markdown",
   "id": "220742e0-cc69-475c-aa7d-f3c0e26400a8",
   "metadata": {},
   "source": [
    "$$ = l\\big(\\cos(0.5\\pi - \\omega t)\\,\\mathbf{i} + \\sin(0.5\\pi - \\omega t)\\,\\mathbf{j} \\big)$$"
   ]
  },
  {
   "cell_type": "markdown",
   "id": "0a1ecc78-4b82-4e9f-818d-6d9f9d72ac15",
   "metadata": {},
   "source": [
    "$$ = l\\big(\\sin(\\omega t)\\,\\mathbf{i} + \\cos(\\omega t)\\,\\mathbf{j}\\big)$$"
   ]
  },
  {
   "cell_type": "markdown",
   "id": "330d1afb-a678-4a53-bdd0-100e06a425ae",
   "metadata": {},
   "source": [
    "$$ \\mathbf{r}_b(t) = \\mathbf{r}_a(-t)$$"
   ]
  },
  {
   "cell_type": "markdown",
   "id": "17e3e893-4a4f-43cd-ba9c-8ac45fe1afa0",
   "metadata": {},
   "source": [
    "$$ \\mathbf{v}_a(t) = \\mathbf{r}_a'(t) = \\omega l\\big(\\cos(\\omega t)\\,\\mathbf{i} - \\sin(\\omega t)\\,\\mathbf{j}\\big)$$"
   ]
  },
  {
   "cell_type": "markdown",
   "id": "526ef14f-7dde-45da-b92d-622af5f4a094",
   "metadata": {},
   "source": [
    "$$ \\mathbf{v}_b(t) = -\\mathbf{v}_a(t)$$"
   ]
  },
  {
   "cell_type": "markdown",
   "id": "22525dd6-4bea-4d5b-aa98-0e60a3b5fb9e",
   "metadata": {},
   "source": [
    "Now, let $A$ and $B$ be secondary coordinate systems whose points of origin are equal to the position of $a$ and $b$ respectively.  The orientation of these systems are equal to that of the main one.  Throughout the following equations, we assume that the motions of these secondary systems is purely translational, meaning that their orientation does not change, only the position of their origins do relative to $C$.  \n",
    "\n",
    "Let $\\mathbf{r}$ be the postion of $a$ relative to $b$.  \n",
    "\n",
    "$$ \\mathbf{r} := \\mathbf{r}(t) = \\mathbf{r}_a(t) - \\mathbf{r}_b(t)$$"
   ]
  },
  {
   "cell_type": "markdown",
   "id": "adea8b46-cc07-4d5a-84ce-10592d465cec",
   "metadata": {},
   "source": [
    "$$ \\mathbf{r}_{a,x} = l\\sin(\\omega t) \\quad\\quad \\mathbf{r}_{a,y} = l\\cos(\\omega t) \\quad\\quad \\mathbf{r}_{b,x} = -\\mathbf{r}_{a,x} \\quad\\quad \\mathbf{r}_{b,y} = \\mathbf{r}_{a,y}$$"
   ]
  },
  {
   "cell_type": "markdown",
   "id": "9d6902ad-8af6-4150-ad15-77f9d9be7b2e",
   "metadata": {},
   "source": [
    "Thus,  \n",
    "\n",
    "$$ \\mathbf{r}(t) = 2l\\sin(\\omega t)\\,\\mathbf{i}$$"
   ]
  },
  {
   "cell_type": "markdown",
   "id": "f96f3fbe-2bc5-4ce9-89bc-47698d5baa81",
   "metadata": {},
   "source": [
    "$$ \\mathbf{v} = \\mathbf{r}'(t) = 2l\\omega \\cos(\\omega t)\\,\\mathbf{i}$$"
   ]
  },
  {
   "cell_type": "markdown",
   "id": "07690fcf-f5ba-4e8f-871a-19882ce33891",
   "metadata": {},
   "source": [
    "Alternatively, let's assume that the motion of $B$ is also rotational;  Let's assume that the orientation of $B$ starts off as being equal to that of $C$, but changes over time such that the $x$-axis of $B$ is tangent to the movement of $b$ and the $y$-axis of $B$ is perpendicular to the motion of $b$.  \n",
    "\n",
    "$$ \\mathbf{r}(t) = 2l\\sin(\\omega t)\\big(\\cos(\\omega t)\\,\\mathbf{i} - \\sin(\\omega t)\\,\\mathbf{j} \\big)$$"
   ]
  },
  {
   "cell_type": "markdown",
   "id": "c722a979-9983-4ee1-96b2-dccd99f1a563",
   "metadata": {},
   "source": [
    "$$ = l\\big(\\sin(2\\omega t)\\,\\mathbf{i} - 2\\sin^2(\\omega t)\\,\\mathbf{j}\\big)$$"
   ]
  },
  {
   "cell_type": "markdown",
   "id": "310b68a6-8863-4541-9850-0706e3799c0b",
   "metadata": {},
   "source": [
    "$$ \\mathbf{v}(t) = 2\\omega l\\big(\\cos(2\\omega t)\\,\\mathbf{i} - \\sin(2\\omega t)\\,\\mathbf{j}\\big)$$"
   ]
  },
  {
   "cell_type": "markdown",
   "id": "25129a52-f2ce-4756-9ad5-c5165ab99691",
   "metadata": {},
   "source": [
    "### Problem 16\n",
    "\n",
    "A sportscar, Electro-Fiasco I, can accelerate uniformly to $100 \\mathrm{km}/\\mathrm{h}$\n",
    "in $3.5 \\mathrm{s}$. Its maximum braking rate cannot exceed $0.7g$. What is the\n",
    "minimum time required to go $1.0 \\mathrm{km}$, assuming it begins and ends\n",
    "at rest?"
   ]
  },
  {
   "cell_type": "markdown",
   "id": "59081b52-210f-47c8-9a27-ca3d67b7f257",
   "metadata": {},
   "source": [
    "$$ |\\mathbf{v}|_\\max = 100\\frac{\\mathrm{km}}{\\mathrm{h}}$$"
   ]
  },
  {
   "cell_type": "markdown",
   "id": "7b69b917-1e3b-4c48-90bb-55e872e12fc0",
   "metadata": {},
   "source": [
    "First, let's convert the above quantity to meters per second.  \n",
    "\n",
    "$$ 100\\frac{\\mathrm{km}}{\\mathrm{h}} = 100\\frac{\\mathrm{km}}{\\mathrm{h}}\\cdot\\frac{1\\mathrm{h}}{60\\mathrm{min}}\\cdot \\frac{1\\mathrm{min}}{60\\mathrm{s}}$$"
   ]
  },
  {
   "cell_type": "markdown",
   "id": "9826a19d-9448-461f-9f54-c137052e603a",
   "metadata": {},
   "source": [
    "$$ |\\mathbf{v}|_\\max = \\frac{100\\mathrm{km}}{60^2\\mathrm{s}} = \\frac{100\\mathrm{km}}{60^2\\mathrm{s}}\\,\\frac{1000\\mathrm{m}}{1\\mathrm{km}}$$"
   ]
  },
  {
   "cell_type": "markdown",
   "id": "f2c36206-4cae-45aa-98a3-fa51cf565d97",
   "metadata": {},
   "source": [
    "$$ = \\frac{1000\\mathrm{m}}{36\\mathrm{s}} = \\frac{250\\mathrm{m}}{9\\mathrm{s}}\\approxeq 27.8\\frac{\\mathrm{m}}{\\mathrm{s}}$$"
   ]
  },
  {
   "cell_type": "code",
   "execution_count": 22,
   "id": "9a0edd25-aa89-4508-bf12-7292bed27f50",
   "metadata": {},
   "outputs": [
    {
     "data": {
      "text/plain": [
       "27.77777777777778"
      ]
     },
     "execution_count": 22,
     "metadata": {},
     "output_type": "execute_result"
    }
   ],
   "source": [
    "1000*100/(60**2)"
   ]
  },
  {
   "cell_type": "markdown",
   "id": "591de891-deec-4981-aabe-63190f9a9a34",
   "metadata": {},
   "source": [
    "$$   \\max(a_1) = \\frac{|\\mathbf{v}|_\\max}{3.5\\mathrm{s}}\\approxeq 7.9 \\frac{\\mathrm{m}}{\\mathrm{s}^2}$$"
   ]
  },
  {
   "cell_type": "code",
   "execution_count": 3,
   "id": "e73609ec-43ca-46a7-a49a-2c29fd45bf43",
   "metadata": {},
   "outputs": [
    {
     "data": {
      "text/plain": [
       "7.936507936507937"
      ]
     },
     "execution_count": 3,
     "metadata": {},
     "output_type": "execute_result"
    }
   ],
   "source": [
    "v_max = 250/9\n",
    "a = v_max / 3.5; a"
   ]
  },
  {
   "cell_type": "markdown",
   "id": "62daf77e-aef9-4876-95a4-cbf070c7db21",
   "metadata": {},
   "source": [
    "$$ \\min(a_2) = 0.7 g = -6.86 \\frac{\\mathrm{m}}{\\mathrm{s}^2}$$"
   ]
  },
  {
   "cell_type": "code",
   "execution_count": 4,
   "id": "3b3062df-e93b-4365-b3de-c569c0201e71",
   "metadata": {},
   "outputs": [
    {
     "data": {
      "text/plain": [
       "-6.86"
      ]
     },
     "execution_count": 4,
     "metadata": {},
     "output_type": "execute_result"
    }
   ],
   "source": [
    "g = -9.8\n",
    "0.7*g"
   ]
  },
  {
   "cell_type": "markdown",
   "id": "1d2aba8e-4b9e-4cd3-8b4a-28aa8ca644a9",
   "metadata": {},
   "source": [
    "$$ x(t) = \\begin{cases}\\tag{16.4} x_1(t) \\quad\\text{for }\\; 0 \\le t \\le T_1 \\\\ x_2(t) \\quad\\text{for }\\; T_1 \\le t \\le T_2\\end{cases}$$"
   ]
  },
  {
   "cell_type": "markdown",
   "id": "fb8390a0-2c43-4b56-aaeb-0ed46aa8a7d8",
   "metadata": {},
   "source": [
    "where $T_1$ is the moment that the brakes are pressed and $T_2$ is the moment that the car stops moving.  \n",
    "\n",
    "$$ x(0) = 0 \\quad\\quad\\text{and}\\quad\\quad x(T_2) = 1000\\mathrm{m}$$"
   ]
  },
  {
   "cell_type": "markdown",
   "id": "610ebd3b-4465-435d-9953-b1e5e78ce7ba",
   "metadata": {},
   "source": [
    "\\begin{equation}\\tag{16.4a}\n",
    "    x_1(t) = \\frac{a_1}{2}t^2\n",
    "\\end{equation}"
   ]
  },
  {
   "cell_type": "markdown",
   "id": "7be94cd6-5b57-45b9-81c6-166bad084ca4",
   "metadata": {},
   "source": [
    "\\begin{equation}\\tag{16.4b}\n",
    "    x_2(t) = \\frac{a_2}{2}(t-T_1)^2 + a_1T_1 (t-T_1) + K\n",
    "\\end{equation}"
   ]
  },
  {
   "cell_type": "markdown",
   "id": "6f3c2aac-7927-4772-bc69-5fb544360360",
   "metadata": {},
   "source": [
    "Via equations (16.4a) and (16.4b),  \n",
    "\n",
    "$$ x_1(T_1) = x_2(T_1) = K = \\frac{a_1}{2}T_1^2 \\quad\\therefore$$"
   ]
  },
  {
   "cell_type": "markdown",
   "id": "a569eb0d-6317-4522-a3de-185a2ff2f632",
   "metadata": {},
   "source": [
    "\\begin{equation}\\tag{16.5}\n",
    "     x_2(t) = \\frac{a_2}{2}(t-T_1)^2 + a_1T_1(t-T_1) + \\frac{a_1}{2}T_1^2\n",
    "\\end{equation}"
   ]
  },
  {
   "cell_type": "markdown",
   "id": "306e1930-27a5-4e0c-9eae-6a1fb922068c",
   "metadata": {},
   "source": [
    "$$ v(t) = \\begin{cases}\\tag{16.6}x_1'(t) \\quad\\text{for }\\; 0\\le t \\le T_1 \\\\ x_2'(t) \\quad\\text{for }\\, T_1\\le t \\le T_2 \\end{cases}$$"
   ]
  },
  {
   "cell_type": "markdown",
   "id": "1eb67365-fe99-45a6-a562-8d2599e80725",
   "metadata": {},
   "source": [
    "$$ v_1 = x_1'(t) = a_1 t \\quad\\quad\\text{and}\\quad\\quad \\max(v_1) = a_1 T_1 $$"
   ]
  },
  {
   "cell_type": "markdown",
   "id": "5a0eb3d5-7499-4671-87a1-9962f3fbd6cf",
   "metadata": {},
   "source": [
    "\\begin{equation}\\tag{16.6a}\n",
    "    v_2(t) = x_2'(t) = a_2(t-T_1) + a_1T_1 \n",
    "\\end{equation}"
   ]
  },
  {
   "cell_type": "markdown",
   "id": "e8542a56-79f1-4430-8e77-7a36671edb2f",
   "metadata": {},
   "source": [
    "$$ v_2(T_2) = a_2(T_2-T_1) + a_1T_1 = 0 \\quad\\therefore$$"
   ]
  },
  {
   "cell_type": "markdown",
   "id": "1191f7b5-0e0a-46f5-b583-2b9947a7fcb7",
   "metadata": {},
   "source": [
    "$$ T_2 =T_1 - \\frac{a_1T_1}{a_2} = T_1\\frac{a_2-a_1}{a_2}\\quad\\therefore$$"
   ]
  },
  {
   "cell_type": "markdown",
   "id": "7e89992b-8e1c-4f79-a700-87e9f8a15ddf",
   "metadata": {},
   "source": [
    "\\begin{equation}\\tag{16.7}\n",
    "    T_1 = T_2\\frac{a_2}{a_2-a_1}\n",
    "\\end{equation}"
   ]
  },
  {
   "cell_type": "markdown",
   "id": "bceb9115-7b78-4189-a4d2-229c305054b2",
   "metadata": {},
   "source": [
    "Via equations (16.7) and (16.5),  \n",
    "\n",
    "$$ x_2(T_2) = 1\\mathrm{km} = \\frac{a_2}{2}T_2^2\\frac{a_1^2}{(a_2-a_1)^2} - T_1T_2\\,\\frac{a_1^2}{a_2-a_1} + \\frac{a_1}{2}T_1^2$$"
   ]
  },
  {
   "cell_type": "markdown",
   "id": "3d9c888c-12e6-4906-a0fa-14703570e4bd",
   "metadata": {},
   "source": [
    "$$ = T_2^2\\left(\\frac{a_2a_1^2}{2(a_2-a_1)^2} - \\frac{a_2a_1^2}{(a_2-a_1)^2} + \\frac{a_1a_2^2}{2(a_2-a_1)^2} \\right)$$"
   ]
  },
  {
   "attachments": {},
   "cell_type": "markdown",
   "id": "3d906d69-092c-4083-ab6a-7519980b2557",
   "metadata": {},
   "source": [
    "$$ = T_2^2\\frac{a_1a_2^2 - a_2a_1^2}{2(a_2-a_1)^2} = T_2^2a_1a_1\\,\\frac{a_2 - a_1}{2(a_2-a_1)^2}$$"
   ]
  },
  {
   "cell_type": "markdown",
   "id": "00e56da1-91ea-4bfd-a7c7-ee2b7d374e08",
   "metadata": {},
   "source": [
    "$$ = T_2^2\\,\\frac{a_1a_2}{2(a_2-a_1)}$$"
   ]
  },
  {
   "cell_type": "markdown",
   "id": "63cb7161-9656-471f-9411-931148d9b89f",
   "metadata": {},
   "source": [
    "Therefore,  \n",
    "\n",
    "$$ T_2 := T_2(a_1,a_2) = \\sqrt{2\\mathrm{km}\\,\\frac{a_2-a_1}{a_1a_2}}$$"
   ]
  },
  {
   "cell_type": "markdown",
   "id": "92a1bd19-d80f-45c1-8189-3f7c18794c3b",
   "metadata": {},
   "source": [
    "Now, let $f(a_1,a_2)$ be defined as:  \n",
    "\n",
    "$$f:= f(a_1,a_2) = 2\\mathrm{km}\\,\\frac{a_2-a_1}{a_1a_2}$$"
   ]
  },
  {
   "cell_type": "markdown",
   "id": "5ec35d27-2431-45c0-9ac6-6fc4bfe39797",
   "metadata": {},
   "source": [
    "$$ = 2x_\\max \\,\\frac{a_2-a_1}{a_1a_2}$$"
   ]
  },
  {
   "cell_type": "code",
   "execution_count": 5,
   "id": "e0463f07-d96c-43e8-ae81-7a5d567e5ee1",
   "metadata": {},
   "outputs": [],
   "source": [
    "import numpy as np\n",
    "import matplotlib.pyplot as plt"
   ]
  },
  {
   "cell_type": "code",
   "execution_count": 17,
   "id": "5144b78d-4f28-4ea2-8ebb-f51488457169",
   "metadata": {
    "collapsed": true,
    "jupyter": {
     "outputs_hidden": true,
     "source_hidden": true
    },
    "scrolled": true
   },
   "outputs": [
    {
     "data": {
      "image/png": "[encoded data removed]",
      "text/plain": [
       "<Figure size 640x480 with 2 Axes>"
      ]
     },
     "metadata": {},
     "output_type": "display_data"
    }
   ],
   "source": [
    "max_a1 = 7.9\n",
    "min_a2 = -6.86\n",
    "\n",
    "a_1 = np.linspace(max_a1/100,max_a1,num=100)\n",
    "a_2 = np.linspace(min_a2,min_a2/100,num=100)\n",
    "\n",
    "A_1, A_2 = np.meshgrid(a_1,a_2)\n",
    "\n",
    "f = 2000*(A_2-A_1)/(A_1*A_2)\n",
    "\n",
    "fig, ax = plt.subplots()\n",
    "ax.set_xlabel(r'$a_1$')\n",
    "ax.set_ylabel(r'$a_2$')\n",
    "ax.grid()\n",
    "\n",
    "cs = ax.contour(A_1,A_2,f,levels=(np.array([0.01,0.1,0.2,0.3,0.5,0.8,1.3])+1)*1000)\n",
    "cb = fig.colorbar(cs)"
   ]
  },
  {
   "cell_type": "code",
   "execution_count": 11,
   "id": "a83a78cb-9239-448c-98d0-4637d0e990a8",
   "metadata": {},
   "outputs": [
    {
     "data": {
      "text/plain": [
       "np.float64(-0.06860000000000001)"
      ]
     },
     "execution_count": 11,
     "metadata": {},
     "output_type": "execute_result"
    }
   ],
   "source": [
    "max(a_2)"
   ]
  },
  {
   "cell_type": "markdown",
   "id": "b5f84d49-14b0-4781-addb-51c8c584a775",
   "metadata": {},
   "source": [
    "Our task is to now find the local minimum of $f$ in the region $R$ bounded by  \n",
    "\n",
    "$$ a_1 = 0 \\quad\\quad a_1 = \\max(a_1) \\quad\\quad a_2 = 0 \\quad\\quad a_2 = \\min(a_2)$$"
   ]
  },
  {
   "cell_type": "markdown",
   "id": "ff7dd16b-9dd2-4765-98cd-12caa773db4e",
   "metadata": {},
   "source": [
    "$$ \\min(T_2) = T_2\\big(\\max(a_1),\\min(a_2)\\big)$$"
   ]
  },
  {
   "cell_type": "markdown",
   "id": "519fb6a1-4517-4378-865e-7fdcc0423647",
   "metadata": {},
   "source": [
    "\\begin{equation}\\tag{16.8}\n",
    "    = \\sqrt{f\\big(\\max(a_1),\\min(a_1)\\big)} \\approxeq 23.3\\mathrm{s}\n",
    "\\end{equation}"
   ]
  },
  {
   "cell_type": "code",
   "execution_count": 19,
   "id": "9d4a1097-7264-48eb-9dcd-1b5f6e880ff9",
   "metadata": {},
   "outputs": [
    {
     "data": {
      "text/plain": [
       "np.float64(23.33901768426423)"
      ]
     },
     "execution_count": 19,
     "metadata": {},
     "output_type": "execute_result"
    }
   ],
   "source": [
    "T_2 = np.sqrt(2000*(min_a2-max_a1)/(max_a1*min_a2)); T_2"
   ]
  },
  {
   "cell_type": "markdown",
   "id": "2c3fd0ff-d1e2-455a-8a5a-068d2b006ae5",
   "metadata": {},
   "source": [
    "Via equations (16.8) and (16.7),  \n",
    "\n",
    "$$ T_1 = T_2\\frac{a_2}{a_2-a_1} \\approxeq 10.8\\mathrm{s}$$"
   ]
  },
  {
   "cell_type": "code",
   "execution_count": 20,
   "id": "4f2829bf-67ca-4987-b320-ffadbf2c5423",
   "metadata": {},
   "outputs": [
    {
     "data": {
      "text/plain": [
       "np.float64(10.847267026697333)"
      ]
     },
     "execution_count": 20,
     "metadata": {},
     "output_type": "execute_result"
    }
   ],
   "source": [
    "T_1 = T_2*min_a2/(min_a2-max_a1); T_1"
   ]
  },
  {
   "cell_type": "markdown",
   "id": "681eb6b7-adf3-4392-b8a4-a2867aac11cc",
   "metadata": {},
   "source": [
    "$$ \\max(v_1) = v_\\max = a_1 T_1 $$"
   ]
  },
  {
   "cell_type": "code",
   "execution_count": 21,
   "id": "05c74d57-5f17-41a8-93bd-935538748dd7",
   "metadata": {},
   "outputs": [
    {
     "data": {
      "text/plain": [
       "np.float64(85.69340951090894)"
      ]
     },
     "execution_count": 21,
     "metadata": {},
     "output_type": "execute_result"
    }
   ],
   "source": [
    "max_a1*T_1"
   ]
  },
  {
   "cell_type": "markdown",
   "id": "88ad7497-f6b9-44af-ab89-42bd41e9ef7b",
   "metadata": {},
   "source": [
    "Without doing any multivariable calculus, it seems to me that the minimum occurs at $\\big(\\max(a_1), \\min(a_2)\\big)$.  But, it's always nice to verify!"
   ]
  },
  {
   "cell_type": "markdown",
   "id": "6714097e-0744-4043-a1df-bd9fb55d8fd5",
   "metadata": {},
   "source": [
    "To make our task easier, let  \n",
    "\n",
    "$$ f_1 := \\frac{\\partial f}{\\partial a_1} \\quad\\quad\\text{and}\\quad\\quad f_2:= \\frac{\\partial f}{\\partial a_2}$$"
   ]
  },
  {
   "cell_type": "markdown",
   "id": "d2931a67-9bd4-4417-8cd1-0c4171e94b09",
   "metadata": {},
   "source": [
    "$$ f_1 = -\\frac{2x_\\max}{a_1a_2} - 2x_\\max\\,\\frac{a_2-a_1}{a_1^2a_2}$$"
   ]
  },
  {
   "cell_type": "markdown",
   "id": "72f7a054-2008-42a7-9704-4b89e169abe9",
   "metadata": {},
   "source": [
    "$$ = -2x_\\max\\frac{a_2}{a_1^2a_2} = -2x_\\max\\,\\frac{1}{a_1^2}$$"
   ]
  }
 ],
 "metadata": {
  "kernelspec": {
   "display_name": "Python 3 (ipykernel)",
   "language": "python",
   "name": "python3"
  },
  "language_info": {
   "codemirror_mode": {
    "name": "ipython",
    "version": 3
   },
   "file_extension": ".py",
   "mimetype": "text/x-python",
   "name": "python",
   "nbconvert_exporter": "python",
   "pygments_lexer": "ipython3",
   "version": "3.10.12"
  }
 },
 "nbformat": 4,
 "nbformat_minor": 5
}
