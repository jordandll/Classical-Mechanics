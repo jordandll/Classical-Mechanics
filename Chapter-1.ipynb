{
 "cells": [
  {
   "cell_type": "markdown",
   "id": "52466591-9a52-49b2-8207-26e16fb0c279",
   "metadata": {},
   "source": [
    "# Vectors and Kinematics"
   ]
  },
  {
   "cell_type": "markdown",
   "id": "f9f27bf9-ae79-4657-9fbf-1a9d66aef61c",
   "metadata": {},
   "source": [
    "## Notes"
   ]
  },
  {
   "cell_type": "markdown",
   "id": "49def3d8-4882-4bbd-aaf6-e28fabeb26bb",
   "metadata": {},
   "source": [
    "### Approximation Methods\n",
    "\n",
    "Occasionally in the course of solving a physics problem you might sud-\n",
    "denly realize that you have become so involved with the mathematics\n",
    "that the physics is largely obscured. In such a case, it is worth stepping\n",
    "back for a moment to see if you can reduce the complexity, for instance\n",
    "by using simple approximate expressions instead of exact formulas.You\n",
    "might feel that there is something essentially wrong with substituting in-\n",
    "exact results for exact ones but this is not really the case, as the following\n",
    "example illustrates."
   ]
  },
  {
   "cell_type": "markdown",
   "id": "1486ab09-c7b9-4a88-a23d-b968e02ac6fe",
   "metadata": {},
   "source": [
    "The period of a simple pendulum of length $L$ is $T_0 = 2\\pi \\sqrt{g/L}$,\n",
    "where $g$ is the acceleration of gravity. (This result will be derived in\n",
    "Chapter 3.) The accuracy of a clock driven by the pendulum depends\n",
    "on $L$ remaining constant, but $L$ can change due to thermal expansion\n",
    "and possibly aging effects. The problem is to find how sensitive the\n",
    "period is to small changes in length. If the length changes by some\n",
    "amount $l$, the new period is $T = 2\\pi \\sqrt{g/(L + l)}$. The change in the period\n",
    "is  \n",
    "\n",
    "$$ \\Delta T = T- T_0 = 2\\pi \\left(\\sqrt{\\frac{g}{L+l}} - \\sqrt{\\frac{g}{L}}\\right)$$"
   ]
  },
  {
   "cell_type": "markdown",
   "id": "78c56ef4-4351-4482-a788-3647c260cf6f",
   "metadata": {},
   "source": [
    "This equation is exact but not particularly informative. It gives little in-\n",
    "sight as to how $\\Delta T$ depends on the change in length $l$. Also, if $l \\ll L$,\n",
    "which is generally the case of interest, $\\Delta T$ is the small difference of two\n",
    "large numbers, which makes the result very sensitive to numerical errors.  To elaborate, let's take the derivative of $\\Delta T$ with respect to $l$.  \n",
    "\n",
    "$$ \\Delta T := \\Delta T(l) \\quad\\quad \\Delta T'(l) = -\\pi \\sqrt{\\frac{g}{(L+l)^3}}$$"
   ]
  },
  {
   "cell_type": "markdown",
   "id": "e6b3b9a3-fa88-48d6-858f-a71c489018a6",
   "metadata": {},
   "source": [
    "The absolute value of the derivative of $\\Delta T$ with respect to $l$ is at it's largest when $l=0$, which confirms what we are elaborating on.  You should know that said derivative correlates with how sensitive $\\Delta T$ is to changes in $l$ as a function of $l$.  As $l$ increases, $|\\Delta T'(l)|$ decreases which correlates with the notion that the larger $l$ gets the less sensitive $\\Delta T$ is to changes in $l$."
   ]
  },
  {
   "cell_type": "markdown",
   "id": "fc912ff6-658c-4e54-b6bc-20f2212caf8c",
   "metadata": {},
   "source": [
    "Now, by recasting the form of $\\Delta T$ , both of these problems can be\n",
    "solved. The trick is to write $ \\Delta T$ as a power series in the small parameter\n",
    "$x = l/L$. We have  \n",
    "\n",
    "\\begin{align*}\n",
    "    \\Delta T &= 2\\pi \\left(\\sqrt{\\frac{g}{L}\\frac{1}{1+x}} - \\sqrt{\\frac{g}{L}}\\right) \\\\ \\\\\n",
    "     &= 2\\pi\\sqrt{\\frac{g}{L}}\\left(\\frac{1}{1+x} - 1\\right) \\\\ \\\\\n",
    "     &= T_0\\left(\\sqrt{\\frac{1}{1+x}}-1\\right)\n",
    "\\end{align*}"
   ]
  }
 ],
 "metadata": {
  "kernelspec": {
   "display_name": "Python 3 (ipykernel)",
   "language": "python",
   "name": "python3"
  },
  "language_info": {
   "codemirror_mode": {
    "name": "ipython",
    "version": 3
   },
   "file_extension": ".py",
   "mimetype": "text/x-python",
   "name": "python",
   "nbconvert_exporter": "python",
   "pygments_lexer": "ipython3",
   "version": "3.10.12"
  }
 },
 "nbformat": 4,
 "nbformat_minor": 5
}
